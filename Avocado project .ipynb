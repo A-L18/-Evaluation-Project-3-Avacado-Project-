{
 "cells": [
  {
   "cell_type": "code",
   "execution_count": 34,
   "id": "8b4ba206",
   "metadata": {},
   "outputs": [],
   "source": [
    "import datetime as dt\n",
    "\n",
    "import warnings\n",
    "warnings.filterwarnings('ignore')\n",
    "import pandas as pd\n",
    "import numpy as np\n",
    "import matplotlib.pyplot as plt\n",
    "%matplotlib inline\n",
    "import seaborn as sns\n",
    "import warnings\n",
    "warnings.filterwarnings('ignore')\n",
    "\n",
    "\n",
    "from sklearn.ensemble import RandomForestRegressor\n",
    "from sklearn.preprocessing import StandardScaler, LabelEncoder\n",
    "from sklearn.pipeline import Pipeline\n",
    "from sklearn.model_selection import train_test_split"
   ]
  },
  {
   "cell_type": "code",
   "execution_count": 35,
   "id": "ef490597",
   "metadata": {},
   "outputs": [],
   "source": [
    "import pandas as pd\n",
    "df=pd.read_csv('avocado.csv')"
   ]
  },
  {
   "cell_type": "code",
   "execution_count": 9,
   "id": "3fcdfb68",
   "metadata": {},
   "outputs": [
    {
     "data": {
      "text/html": [
       "<div>\n",
       "<style scoped>\n",
       "    .dataframe tbody tr th:only-of-type {\n",
       "        vertical-align: middle;\n",
       "    }\n",
       "\n",
       "    .dataframe tbody tr th {\n",
       "        vertical-align: top;\n",
       "    }\n",
       "\n",
       "    .dataframe thead th {\n",
       "        text-align: right;\n",
       "    }\n",
       "</style>\n",
       "<table border=\"1\" class=\"dataframe\">\n",
       "  <thead>\n",
       "    <tr style=\"text-align: right;\">\n",
       "      <th></th>\n",
       "      <th>Unnamed: 0</th>\n",
       "      <th>Date</th>\n",
       "      <th>AveragePrice</th>\n",
       "      <th>Total Volume</th>\n",
       "      <th>4046</th>\n",
       "      <th>4225</th>\n",
       "      <th>4770</th>\n",
       "      <th>Total Bags</th>\n",
       "      <th>Small Bags</th>\n",
       "      <th>Large Bags</th>\n",
       "      <th>XLarge Bags</th>\n",
       "      <th>type</th>\n",
       "      <th>year</th>\n",
       "      <th>region</th>\n",
       "    </tr>\n",
       "  </thead>\n",
       "  <tbody>\n",
       "    <tr>\n",
       "      <th>0</th>\n",
       "      <td>0</td>\n",
       "      <td>2015-12-27</td>\n",
       "      <td>1.33</td>\n",
       "      <td>64236.62</td>\n",
       "      <td>1036.74</td>\n",
       "      <td>54454.85</td>\n",
       "      <td>48.16</td>\n",
       "      <td>8696.87</td>\n",
       "      <td>8603.62</td>\n",
       "      <td>93.25</td>\n",
       "      <td>0.0</td>\n",
       "      <td>conventional</td>\n",
       "      <td>2015</td>\n",
       "      <td>Albany</td>\n",
       "    </tr>\n",
       "    <tr>\n",
       "      <th>1</th>\n",
       "      <td>1</td>\n",
       "      <td>2015-12-20</td>\n",
       "      <td>1.35</td>\n",
       "      <td>54876.98</td>\n",
       "      <td>674.28</td>\n",
       "      <td>44638.81</td>\n",
       "      <td>58.33</td>\n",
       "      <td>9505.56</td>\n",
       "      <td>9408.07</td>\n",
       "      <td>97.49</td>\n",
       "      <td>0.0</td>\n",
       "      <td>conventional</td>\n",
       "      <td>2015</td>\n",
       "      <td>Albany</td>\n",
       "    </tr>\n",
       "    <tr>\n",
       "      <th>2</th>\n",
       "      <td>2</td>\n",
       "      <td>2015-12-13</td>\n",
       "      <td>0.93</td>\n",
       "      <td>118220.22</td>\n",
       "      <td>794.70</td>\n",
       "      <td>109149.67</td>\n",
       "      <td>130.50</td>\n",
       "      <td>8145.35</td>\n",
       "      <td>8042.21</td>\n",
       "      <td>103.14</td>\n",
       "      <td>0.0</td>\n",
       "      <td>conventional</td>\n",
       "      <td>2015</td>\n",
       "      <td>Albany</td>\n",
       "    </tr>\n",
       "    <tr>\n",
       "      <th>3</th>\n",
       "      <td>3</td>\n",
       "      <td>2015-12-06</td>\n",
       "      <td>1.08</td>\n",
       "      <td>78992.15</td>\n",
       "      <td>1132.00</td>\n",
       "      <td>71976.41</td>\n",
       "      <td>72.58</td>\n",
       "      <td>5811.16</td>\n",
       "      <td>5677.40</td>\n",
       "      <td>133.76</td>\n",
       "      <td>0.0</td>\n",
       "      <td>conventional</td>\n",
       "      <td>2015</td>\n",
       "      <td>Albany</td>\n",
       "    </tr>\n",
       "    <tr>\n",
       "      <th>4</th>\n",
       "      <td>4</td>\n",
       "      <td>2015-11-29</td>\n",
       "      <td>1.28</td>\n",
       "      <td>51039.60</td>\n",
       "      <td>941.48</td>\n",
       "      <td>43838.39</td>\n",
       "      <td>75.78</td>\n",
       "      <td>6183.95</td>\n",
       "      <td>5986.26</td>\n",
       "      <td>197.69</td>\n",
       "      <td>0.0</td>\n",
       "      <td>conventional</td>\n",
       "      <td>2015</td>\n",
       "      <td>Albany</td>\n",
       "    </tr>\n",
       "  </tbody>\n",
       "</table>\n",
       "</div>"
      ],
      "text/plain": [
       "   Unnamed: 0        Date  AveragePrice  Total Volume     4046       4225  \\\n",
       "0           0  2015-12-27          1.33      64236.62  1036.74   54454.85   \n",
       "1           1  2015-12-20          1.35      54876.98   674.28   44638.81   \n",
       "2           2  2015-12-13          0.93     118220.22   794.70  109149.67   \n",
       "3           3  2015-12-06          1.08      78992.15  1132.00   71976.41   \n",
       "4           4  2015-11-29          1.28      51039.60   941.48   43838.39   \n",
       "\n",
       "     4770  Total Bags  Small Bags  Large Bags  XLarge Bags          type  \\\n",
       "0   48.16     8696.87     8603.62       93.25          0.0  conventional   \n",
       "1   58.33     9505.56     9408.07       97.49          0.0  conventional   \n",
       "2  130.50     8145.35     8042.21      103.14          0.0  conventional   \n",
       "3   72.58     5811.16     5677.40      133.76          0.0  conventional   \n",
       "4   75.78     6183.95     5986.26      197.69          0.0  conventional   \n",
       "\n",
       "   year  region  \n",
       "0  2015  Albany  \n",
       "1  2015  Albany  \n",
       "2  2015  Albany  \n",
       "3  2015  Albany  \n",
       "4  2015  Albany  "
      ]
     },
     "execution_count": 9,
     "metadata": {},
     "output_type": "execute_result"
    }
   ],
   "source": [
    "df.head()"
   ]
  },
  {
   "cell_type": "code",
   "execution_count": 36,
   "id": "7e49687c",
   "metadata": {},
   "outputs": [
    {
     "data": {
      "text/html": [
       "<div>\n",
       "<style scoped>\n",
       "    .dataframe tbody tr th:only-of-type {\n",
       "        vertical-align: middle;\n",
       "    }\n",
       "\n",
       "    .dataframe tbody tr th {\n",
       "        vertical-align: top;\n",
       "    }\n",
       "\n",
       "    .dataframe thead th {\n",
       "        text-align: right;\n",
       "    }\n",
       "</style>\n",
       "<table border=\"1\" class=\"dataframe\">\n",
       "  <thead>\n",
       "    <tr style=\"text-align: right;\">\n",
       "      <th></th>\n",
       "      <th>Unnamed: 0</th>\n",
       "      <th>Date</th>\n",
       "      <th>AveragePrice</th>\n",
       "      <th>Total Volume</th>\n",
       "      <th>4046</th>\n",
       "      <th>4225</th>\n",
       "      <th>4770</th>\n",
       "      <th>Total Bags</th>\n",
       "      <th>Small Bags</th>\n",
       "      <th>Large Bags</th>\n",
       "      <th>XLarge Bags</th>\n",
       "      <th>type</th>\n",
       "      <th>year</th>\n",
       "      <th>region</th>\n",
       "    </tr>\n",
       "  </thead>\n",
       "  <tbody>\n",
       "    <tr>\n",
       "      <th>0</th>\n",
       "      <td>0</td>\n",
       "      <td>2015-12-27</td>\n",
       "      <td>1.33</td>\n",
       "      <td>64236.62</td>\n",
       "      <td>1036.74</td>\n",
       "      <td>54454.85</td>\n",
       "      <td>48.16</td>\n",
       "      <td>8696.87</td>\n",
       "      <td>8603.62</td>\n",
       "      <td>93.25</td>\n",
       "      <td>0.0</td>\n",
       "      <td>conventional</td>\n",
       "      <td>2015</td>\n",
       "      <td>Albany</td>\n",
       "    </tr>\n",
       "    <tr>\n",
       "      <th>1</th>\n",
       "      <td>1</td>\n",
       "      <td>2015-12-20</td>\n",
       "      <td>1.35</td>\n",
       "      <td>54876.98</td>\n",
       "      <td>674.28</td>\n",
       "      <td>44638.81</td>\n",
       "      <td>58.33</td>\n",
       "      <td>9505.56</td>\n",
       "      <td>9408.07</td>\n",
       "      <td>97.49</td>\n",
       "      <td>0.0</td>\n",
       "      <td>conventional</td>\n",
       "      <td>2015</td>\n",
       "      <td>Albany</td>\n",
       "    </tr>\n",
       "    <tr>\n",
       "      <th>2</th>\n",
       "      <td>2</td>\n",
       "      <td>2015-12-13</td>\n",
       "      <td>0.93</td>\n",
       "      <td>118220.22</td>\n",
       "      <td>794.70</td>\n",
       "      <td>109149.67</td>\n",
       "      <td>130.50</td>\n",
       "      <td>8145.35</td>\n",
       "      <td>8042.21</td>\n",
       "      <td>103.14</td>\n",
       "      <td>0.0</td>\n",
       "      <td>conventional</td>\n",
       "      <td>2015</td>\n",
       "      <td>Albany</td>\n",
       "    </tr>\n",
       "    <tr>\n",
       "      <th>3</th>\n",
       "      <td>3</td>\n",
       "      <td>2015-12-06</td>\n",
       "      <td>1.08</td>\n",
       "      <td>78992.15</td>\n",
       "      <td>1132.00</td>\n",
       "      <td>71976.41</td>\n",
       "      <td>72.58</td>\n",
       "      <td>5811.16</td>\n",
       "      <td>5677.40</td>\n",
       "      <td>133.76</td>\n",
       "      <td>0.0</td>\n",
       "      <td>conventional</td>\n",
       "      <td>2015</td>\n",
       "      <td>Albany</td>\n",
       "    </tr>\n",
       "    <tr>\n",
       "      <th>4</th>\n",
       "      <td>4</td>\n",
       "      <td>2015-11-29</td>\n",
       "      <td>1.28</td>\n",
       "      <td>51039.60</td>\n",
       "      <td>941.48</td>\n",
       "      <td>43838.39</td>\n",
       "      <td>75.78</td>\n",
       "      <td>6183.95</td>\n",
       "      <td>5986.26</td>\n",
       "      <td>197.69</td>\n",
       "      <td>0.0</td>\n",
       "      <td>conventional</td>\n",
       "      <td>2015</td>\n",
       "      <td>Albany</td>\n",
       "    </tr>\n",
       "    <tr>\n",
       "      <th>...</th>\n",
       "      <td>...</td>\n",
       "      <td>...</td>\n",
       "      <td>...</td>\n",
       "      <td>...</td>\n",
       "      <td>...</td>\n",
       "      <td>...</td>\n",
       "      <td>...</td>\n",
       "      <td>...</td>\n",
       "      <td>...</td>\n",
       "      <td>...</td>\n",
       "      <td>...</td>\n",
       "      <td>...</td>\n",
       "      <td>...</td>\n",
       "      <td>...</td>\n",
       "    </tr>\n",
       "    <tr>\n",
       "      <th>18244</th>\n",
       "      <td>7</td>\n",
       "      <td>2018-02-04</td>\n",
       "      <td>1.63</td>\n",
       "      <td>17074.83</td>\n",
       "      <td>2046.96</td>\n",
       "      <td>1529.20</td>\n",
       "      <td>0.00</td>\n",
       "      <td>13498.67</td>\n",
       "      <td>13066.82</td>\n",
       "      <td>431.85</td>\n",
       "      <td>0.0</td>\n",
       "      <td>organic</td>\n",
       "      <td>2018</td>\n",
       "      <td>WestTexNewMexico</td>\n",
       "    </tr>\n",
       "    <tr>\n",
       "      <th>18245</th>\n",
       "      <td>8</td>\n",
       "      <td>2018-01-28</td>\n",
       "      <td>1.71</td>\n",
       "      <td>13888.04</td>\n",
       "      <td>1191.70</td>\n",
       "      <td>3431.50</td>\n",
       "      <td>0.00</td>\n",
       "      <td>9264.84</td>\n",
       "      <td>8940.04</td>\n",
       "      <td>324.80</td>\n",
       "      <td>0.0</td>\n",
       "      <td>organic</td>\n",
       "      <td>2018</td>\n",
       "      <td>WestTexNewMexico</td>\n",
       "    </tr>\n",
       "    <tr>\n",
       "      <th>18246</th>\n",
       "      <td>9</td>\n",
       "      <td>2018-01-21</td>\n",
       "      <td>1.87</td>\n",
       "      <td>13766.76</td>\n",
       "      <td>1191.92</td>\n",
       "      <td>2452.79</td>\n",
       "      <td>727.94</td>\n",
       "      <td>9394.11</td>\n",
       "      <td>9351.80</td>\n",
       "      <td>42.31</td>\n",
       "      <td>0.0</td>\n",
       "      <td>organic</td>\n",
       "      <td>2018</td>\n",
       "      <td>WestTexNewMexico</td>\n",
       "    </tr>\n",
       "    <tr>\n",
       "      <th>18247</th>\n",
       "      <td>10</td>\n",
       "      <td>2018-01-14</td>\n",
       "      <td>1.93</td>\n",
       "      <td>16205.22</td>\n",
       "      <td>1527.63</td>\n",
       "      <td>2981.04</td>\n",
       "      <td>727.01</td>\n",
       "      <td>10969.54</td>\n",
       "      <td>10919.54</td>\n",
       "      <td>50.00</td>\n",
       "      <td>0.0</td>\n",
       "      <td>organic</td>\n",
       "      <td>2018</td>\n",
       "      <td>WestTexNewMexico</td>\n",
       "    </tr>\n",
       "    <tr>\n",
       "      <th>18248</th>\n",
       "      <td>11</td>\n",
       "      <td>2018-01-07</td>\n",
       "      <td>1.62</td>\n",
       "      <td>17489.58</td>\n",
       "      <td>2894.77</td>\n",
       "      <td>2356.13</td>\n",
       "      <td>224.53</td>\n",
       "      <td>12014.15</td>\n",
       "      <td>11988.14</td>\n",
       "      <td>26.01</td>\n",
       "      <td>0.0</td>\n",
       "      <td>organic</td>\n",
       "      <td>2018</td>\n",
       "      <td>WestTexNewMexico</td>\n",
       "    </tr>\n",
       "  </tbody>\n",
       "</table>\n",
       "<p>18249 rows × 14 columns</p>\n",
       "</div>"
      ],
      "text/plain": [
       "       Unnamed: 0        Date  AveragePrice  Total Volume     4046       4225  \\\n",
       "0               0  2015-12-27          1.33      64236.62  1036.74   54454.85   \n",
       "1               1  2015-12-20          1.35      54876.98   674.28   44638.81   \n",
       "2               2  2015-12-13          0.93     118220.22   794.70  109149.67   \n",
       "3               3  2015-12-06          1.08      78992.15  1132.00   71976.41   \n",
       "4               4  2015-11-29          1.28      51039.60   941.48   43838.39   \n",
       "...           ...         ...           ...           ...      ...        ...   \n",
       "18244           7  2018-02-04          1.63      17074.83  2046.96    1529.20   \n",
       "18245           8  2018-01-28          1.71      13888.04  1191.70    3431.50   \n",
       "18246           9  2018-01-21          1.87      13766.76  1191.92    2452.79   \n",
       "18247          10  2018-01-14          1.93      16205.22  1527.63    2981.04   \n",
       "18248          11  2018-01-07          1.62      17489.58  2894.77    2356.13   \n",
       "\n",
       "         4770  Total Bags  Small Bags  Large Bags  XLarge Bags          type  \\\n",
       "0       48.16     8696.87     8603.62       93.25          0.0  conventional   \n",
       "1       58.33     9505.56     9408.07       97.49          0.0  conventional   \n",
       "2      130.50     8145.35     8042.21      103.14          0.0  conventional   \n",
       "3       72.58     5811.16     5677.40      133.76          0.0  conventional   \n",
       "4       75.78     6183.95     5986.26      197.69          0.0  conventional   \n",
       "...       ...         ...         ...         ...          ...           ...   \n",
       "18244    0.00    13498.67    13066.82      431.85          0.0       organic   \n",
       "18245    0.00     9264.84     8940.04      324.80          0.0       organic   \n",
       "18246  727.94     9394.11     9351.80       42.31          0.0       organic   \n",
       "18247  727.01    10969.54    10919.54       50.00          0.0       organic   \n",
       "18248  224.53    12014.15    11988.14       26.01          0.0       organic   \n",
       "\n",
       "       year            region  \n",
       "0      2015            Albany  \n",
       "1      2015            Albany  \n",
       "2      2015            Albany  \n",
       "3      2015            Albany  \n",
       "4      2015            Albany  \n",
       "...     ...               ...  \n",
       "18244  2018  WestTexNewMexico  \n",
       "18245  2018  WestTexNewMexico  \n",
       "18246  2018  WestTexNewMexico  \n",
       "18247  2018  WestTexNewMexico  \n",
       "18248  2018  WestTexNewMexico  \n",
       "\n",
       "[18249 rows x 14 columns]"
      ]
     },
     "execution_count": 36,
     "metadata": {},
     "output_type": "execute_result"
    }
   ],
   "source": [
    "df\n"
   ]
  },
  {
   "cell_type": "code",
   "execution_count": 37,
   "id": "010e13fd",
   "metadata": {},
   "outputs": [
    {
     "data": {
      "text/plain": [
       "Unnamed: 0        int64\n",
       "Date             object\n",
       "AveragePrice    float64\n",
       "Total Volume    float64\n",
       "4046            float64\n",
       "4225            float64\n",
       "4770            float64\n",
       "Total Bags      float64\n",
       "Small Bags      float64\n",
       "Large Bags      float64\n",
       "XLarge Bags     float64\n",
       "type             object\n",
       "year              int64\n",
       "region           object\n",
       "dtype: object"
      ]
     },
     "execution_count": 37,
     "metadata": {},
     "output_type": "execute_result"
    }
   ],
   "source": [
    "df.dtypes\n"
   ]
  },
  {
   "cell_type": "code",
   "execution_count": 38,
   "id": "54579af6",
   "metadata": {},
   "outputs": [
    {
     "data": {
      "text/plain": [
       "(18249, 14)"
      ]
     },
     "execution_count": 38,
     "metadata": {},
     "output_type": "execute_result"
    }
   ],
   "source": [
    "df.shape\n"
   ]
  },
  {
   "cell_type": "code",
   "execution_count": 39,
   "id": "c735d385",
   "metadata": {},
   "outputs": [
    {
     "data": {
      "text/plain": [
       "Index(['Unnamed: 0', 'Date', 'AveragePrice', 'Total Volume', '4046', '4225',\n",
       "       '4770', 'Total Bags', 'Small Bags', 'Large Bags', 'XLarge Bags', 'type',\n",
       "       'year', 'region'],\n",
       "      dtype='object')"
      ]
     },
     "execution_count": 39,
     "metadata": {},
     "output_type": "execute_result"
    }
   ],
   "source": [
    "df.columns\n"
   ]
  },
  {
   "cell_type": "code",
   "execution_count": 40,
   "id": "2c73d483",
   "metadata": {},
   "outputs": [],
   "source": [
    "df.drop('Unnamed: 0',inplace=True,axis=1)\n"
   ]
  },
  {
   "cell_type": "code",
   "execution_count": 41,
   "id": "51c81d57",
   "metadata": {},
   "outputs": [
    {
     "data": {
      "text/plain": [
       "Index(['Date', 'AveragePrice', 'Total Volume', '4046', '4225', '4770',\n",
       "       'Total Bags', 'Small Bags', 'Large Bags', 'XLarge Bags', 'type', 'year',\n",
       "       'region'],\n",
       "      dtype='object')"
      ]
     },
     "execution_count": 41,
     "metadata": {},
     "output_type": "execute_result"
    }
   ],
   "source": [
    "df.columns\n"
   ]
  },
  {
   "cell_type": "code",
   "execution_count": 42,
   "id": "d89fe900",
   "metadata": {},
   "outputs": [
    {
     "data": {
      "text/plain": [
       "Date            0\n",
       "AveragePrice    0\n",
       "Total Volume    0\n",
       "4046            0\n",
       "4225            0\n",
       "4770            0\n",
       "Total Bags      0\n",
       "Small Bags      0\n",
       "Large Bags      0\n",
       "XLarge Bags     0\n",
       "type            0\n",
       "year            0\n",
       "region          0\n",
       "dtype: int64"
      ]
     },
     "execution_count": 42,
     "metadata": {},
     "output_type": "execute_result"
    }
   ],
   "source": [
    "df.isnull().sum()\n"
   ]
  },
  {
   "cell_type": "code",
   "execution_count": 43,
   "id": "2fc99c53",
   "metadata": {},
   "outputs": [
    {
     "data": {
      "text/plain": [
       "<AxesSubplot:xlabel='type', ylabel='count'>"
      ]
     },
     "execution_count": 43,
     "metadata": {},
     "output_type": "execute_result"
    },
    {
     "data": {
      "image/png": "[encoded data removed]",
      "text/plain": [
       "<Figure size 360x360 with 1 Axes>"
      ]
     },
     "metadata": {
      "needs_background": "light"
     },
     "output_type": "display_data"
    }
   ],
   "source": [
    "plt.figure(figsize=(5,5))\n",
    "sns.countplot(df.type)"
   ]
  },
  {
   "cell_type": "code",
   "execution_count": 44,
   "id": "3cb375de",
   "metadata": {},
   "outputs": [
    {
     "data": {
      "text/plain": [
       "conventional    9126\n",
       "organic         9123\n",
       "Name: type, dtype: int64"
      ]
     },
     "execution_count": 44,
     "metadata": {},
     "output_type": "execute_result"
    }
   ],
   "source": [
    "df.type.value_counts()\n"
   ]
  },
  {
   "cell_type": "code",
   "execution_count": 45,
   "id": "eb3aa9d0",
   "metadata": {},
   "outputs": [
    {
     "data": {
      "text/plain": [
       "<AxesSubplot:xlabel='year', ylabel='count'>"
      ]
     },
     "execution_count": 45,
     "metadata": {},
     "output_type": "execute_result"
    },
    {
     "data": {
      "image/png": "[encoded data removed]",
      "text/plain": [
       "<Figure size 288x144 with 1 Axes>"
      ]
     },
     "metadata": {
      "needs_background": "light"
     },
     "output_type": "display_data"
    }
   ],
   "source": [
    "plt.figure(figsize=(4,2))\n",
    "sns.countplot(df.year)"
   ]
  },
  {
   "cell_type": "code",
   "execution_count": 46,
   "id": "154b19e5",
   "metadata": {},
   "outputs": [
    {
     "data": {
      "text/plain": [
       "2017    5722\n",
       "2016    5616\n",
       "2015    5615\n",
       "2018    1296\n",
       "Name: year, dtype: int64"
      ]
     },
     "execution_count": 46,
     "metadata": {},
     "output_type": "execute_result"
    }
   ],
   "source": [
    "df.year.value_counts()\n"
   ]
  },
  {
   "cell_type": "code",
   "execution_count": 47,
   "id": "8846613c",
   "metadata": {},
   "outputs": [
    {
     "data": {
      "text/plain": [
       "RichmondNorfolk        338\n",
       "SanDiego               338\n",
       "NewYork                338\n",
       "Sacramento             338\n",
       "DallasFtWorth          338\n",
       "Philadelphia           338\n",
       "California             338\n",
       "Portland               338\n",
       "BuffaloRochester       338\n",
       "Southeast              338\n",
       "Northeast              338\n",
       "Syracuse               338\n",
       "Pittsburgh             338\n",
       "GreatLakes             338\n",
       "Columbus               338\n",
       "Boston                 338\n",
       "SanFrancisco           338\n",
       "Jacksonville           338\n",
       "Midsouth               338\n",
       "SouthCentral           338\n",
       "LosAngeles             338\n",
       "Boise                  338\n",
       "Chicago                338\n",
       "Spokane                338\n",
       "Tampa                  338\n",
       "Plains                 338\n",
       "GrandRapids            338\n",
       "Roanoke                338\n",
       "NorthernNewEngland     338\n",
       "Louisville             338\n",
       "Houston                338\n",
       "MiamiFtLauderdale      338\n",
       "RaleighGreensboro      338\n",
       "HartfordSpringfield    338\n",
       "LasVegas               338\n",
       "SouthCarolina          338\n",
       "Denver                 338\n",
       "Atlanta                338\n",
       "StLouis                338\n",
       "PhoenixTucson          338\n",
       "HarrisburgScranton     338\n",
       "Albany                 338\n",
       "NewOrleansMobile       338\n",
       "Charlotte              338\n",
       "TotalUS                338\n",
       "Nashville              338\n",
       "CincinnatiDayton       338\n",
       "Detroit                338\n",
       "Indianapolis           338\n",
       "Seattle                338\n",
       "BaltimoreWashington    338\n",
       "West                   338\n",
       "Orlando                338\n",
       "WestTexNewMexico       335\n",
       "Name: region, dtype: int64"
      ]
     },
     "execution_count": 47,
     "metadata": {},
     "output_type": "execute_result"
    }
   ],
   "source": [
    "df.region.value_counts()\n"
   ]
  },
  {
   "cell_type": "code",
   "execution_count": 48,
   "id": "af781d70",
   "metadata": {},
   "outputs": [
    {
     "data": {
      "text/plain": [
       "year  type        \n",
       "2015  conventional    2808\n",
       "      organic         2807\n",
       "2016  conventional    2808\n",
       "      organic         2808\n",
       "2017  conventional    2862\n",
       "      organic         2860\n",
       "2018  conventional     648\n",
       "      organic          648\n",
       "Name: type, dtype: int64"
      ]
     },
     "execution_count": 48,
     "metadata": {},
     "output_type": "execute_result"
    }
   ],
   "source": [
    "df.groupby('year')['type'].value_counts()\n"
   ]
  },
  {
   "cell_type": "code",
   "execution_count": 49,
   "id": "612fd38c",
   "metadata": {},
   "outputs": [
    {
     "data": {
      "text/plain": [
       "<AxesSubplot:xlabel='year', ylabel='AveragePrice'>"
      ]
     },
     "execution_count": 49,
     "metadata": {},
     "output_type": "execute_result"
    },
    {
     "data": {
      "image/png": "[encoded data removed]",
      "text/plain": [
       "<Figure size 432x288 with 1 Axes>"
      ]
     },
     "metadata": {
      "needs_background": "light"
     },
     "output_type": "display_data"
    }
   ],
   "source": [
    "sns.barplot(x='year',y='AveragePrice',data=df)\n"
   ]
  },
  {
   "cell_type": "code",
   "execution_count": 50,
   "id": "6b49d03d",
   "metadata": {},
   "outputs": [
    {
     "data": {
      "text/plain": [
       "<AxesSubplot:xlabel='year', ylabel='Total Volume'>"
      ]
     },
     "execution_count": 50,
     "metadata": {},
     "output_type": "execute_result"
    },
    {
     "data": {
      "image/png": "[encoded data removed]",
      "text/plain": [
       "<Figure size 432x288 with 1 Axes>"
      ]
     },
     "metadata": {
      "needs_background": "light"
     },
     "output_type": "display_data"
    }
   ],
   "source": [
    "sns.barplot(x='year',y='Total Volume',data=df)\n"
   ]
  },
  {
   "cell_type": "code",
   "execution_count": 51,
   "id": "52d24ebd",
   "metadata": {},
   "outputs": [
    {
     "data": {
      "image/png": "[encoded data removed]",
      "text/plain": [
       "<Figure size 1080x720 with 2 Axes>"
      ]
     },
     "metadata": {
      "needs_background": "light"
     },
     "output_type": "display_data"
    }
   ],
   "source": [
    "plt.figure(figsize=(15,10))\n",
    "sns.heatmap(round(df.describe()[1:].transpose(),2),linewidth=2,annot=True,fmt=\"f\")\n",
    "\n",
    "plt.show()"
   ]
  },
  {
   "cell_type": "code",
   "execution_count": 52,
   "id": "039bfae7",
   "metadata": {},
   "outputs": [
    {
     "data": {
      "text/plain": [
       "<AxesSubplot:>"
      ]
     },
     "execution_count": 52,
     "metadata": {},
     "output_type": "execute_result"
    },
    {
     "data": {
      "image/png": "[encoded data removed]",
      "text/plain": [
       "<Figure size 1080x720 with 3 Axes>"
      ]
     },
     "metadata": {
      "needs_background": "light"
     },
     "output_type": "display_data"
    }
   ],
   "source": [
    "plt.figure(figsize=(15, 10))\n",
    "sns.heatmap(df.corr())\n",
    "sns.heatmap(df.corr(), annot = True, vmin=-1, vmax=1, center= 0, cmap= 'coolwarm', linewidths=3, linecolor='black')\n"
   ]
  },
  {
   "cell_type": "code",
   "execution_count": 53,
   "id": "50afa966",
   "metadata": {},
   "outputs": [
    {
     "data": {
      "text/plain": [
       "array([[<AxesSubplot:title={'center':'AveragePrice'}>,\n",
       "        <AxesSubplot:title={'center':'Total Volume'}>,\n",
       "        <AxesSubplot:title={'center':'4046'}>],\n",
       "       [<AxesSubplot:title={'center':'4225'}>,\n",
       "        <AxesSubplot:title={'center':'4770'}>,\n",
       "        <AxesSubplot:title={'center':'Total Bags'}>],\n",
       "       [<AxesSubplot:title={'center':'Small Bags'}>,\n",
       "        <AxesSubplot:title={'center':'Large Bags'}>,\n",
       "        <AxesSubplot:title={'center':'XLarge Bags'}>],\n",
       "       [<AxesSubplot:title={'center':'year'}>, <AxesSubplot:>,\n",
       "        <AxesSubplot:>]], dtype=object)"
      ]
     },
     "execution_count": 53,
     "metadata": {},
     "output_type": "execute_result"
    },
    {
     "data": {
      "image/png": "[encoded data removed]",
      "text/plain": [
       "<Figure size 1440x1440 with 12 Axes>"
      ]
     },
     "metadata": {
      "needs_background": "light"
     },
     "output_type": "display_data"
    }
   ],
   "source": [
    "df.hist(edgecolor='red',linewidth=1.5,figsize=(20,20))"
   ]
  },
  {
   "cell_type": "code",
   "execution_count": 54,
   "id": "5e8f628e",
   "metadata": {},
   "outputs": [
    {
     "data": {
      "text/plain": [
       "Text(0, 0.5, 'Total Volume')"
      ]
     },
     "execution_count": 54,
     "metadata": {},
     "output_type": "execute_result"
    },
    {
     "data": {
      "image/png": "[encoded data removed]",
      "text/plain": [
       "<Figure size 1008x648 with 1 Axes>"
      ]
     },
     "metadata": {
      "needs_background": "light"
     },
     "output_type": "display_data"
    }
   ],
   "source": [
    "plt.figure(figsize = (14,9))\n",
    "\n",
    "plt.subplot(211)\n",
    "a = sns.boxplot(x='year', y='Total Volume', data=df, palette=\"Set1\")\n",
    "a.set_title(\"year vs. Total Volume\", fontsize=15)\n",
    "a.set_xlabel(\"\", fontsize=12)\n",
    "a.set_ylabel(\"Total Volume\", fontsize=12)"
   ]
  },
  {
   "cell_type": "code",
   "execution_count": 55,
   "id": "9883d022",
   "metadata": {},
   "outputs": [
    {
     "data": {
      "text/plain": [
       "Text(0, 0.5, 'Total Volume')"
      ]
     },
     "execution_count": 55,
     "metadata": {},
     "output_type": "execute_result"
    },
    {
     "data": {
      "image/png": "[encoded data removed]",
      "text/plain": [
       "<Figure size 1008x648 with 1 Axes>"
      ]
     },
     "metadata": {
      "needs_background": "light"
     },
     "output_type": "display_data"
    }
   ],
   "source": [
    "plt.figure(figsize = (14,9))\n",
    "\n",
    "plt.subplot(211)\n",
    "a = sns.boxplot(x='type', y='Total Volume', data=df, palette=\"Set1\")\n",
    "a.set_title(\"type vs. Total Volume\", fontsize=15)\n",
    "a.set_xlabel(\"\", fontsize=12)\n",
    "a.set_ylabel(\"Total Volume\", fontsize=12)"
   ]
  },
  {
   "cell_type": "code",
   "execution_count": 56,
   "id": "7445bf4a",
   "metadata": {},
   "outputs": [
    {
     "data": {
      "text/plain": [
       "AveragePrice     0.580303\n",
       "Total Volume     9.007687\n",
       "4046             8.648220\n",
       "4225             8.942466\n",
       "4770            10.159396\n",
       "Total Bags       9.756072\n",
       "Small Bags       9.540660\n",
       "Large Bags       9.796455\n",
       "XLarge Bags     13.139751\n",
       "year             0.215339\n",
       "dtype: float64"
      ]
     },
     "execution_count": 56,
     "metadata": {},
     "output_type": "execute_result"
    }
   ],
   "source": [
    "df.skew()\n"
   ]
  },
  {
   "cell_type": "code",
   "execution_count": 57,
   "id": "94280d54",
   "metadata": {},
   "outputs": [],
   "source": [
    "skew=('Total Volume','4046','4225','4770','Total Bags','Small Bags','Large Bags','XLarge Bags')\n",
    "\n",
    "for col in skew:\n",
    "    if df.skew().loc[col]>0.55:\n",
    "        df[col]=np.log1p(df[col])"
   ]
  },
  {
   "cell_type": "code",
   "execution_count": 63,
   "id": "55772e30",
   "metadata": {},
   "outputs": [
    {
     "data": {
      "text/plain": [
       "AveragePrice        AxesSubplot(0.125,0.71587;0.168478x0.16413)\n",
       "Total Volume     AxesSubplot(0.327174,0.71587;0.168478x0.16413)\n",
       "4046             AxesSubplot(0.529348,0.71587;0.168478x0.16413)\n",
       "4225             AxesSubplot(0.731522,0.71587;0.168478x0.16413)\n",
       "4770               AxesSubplot(0.125,0.518913;0.168478x0.16413)\n",
       "Total Bags      AxesSubplot(0.327174,0.518913;0.168478x0.16413)\n",
       "Small Bags      AxesSubplot(0.529348,0.518913;0.168478x0.16413)\n",
       "Large Bags      AxesSubplot(0.731522,0.518913;0.168478x0.16413)\n",
       "XLarge Bags        AxesSubplot(0.125,0.321957;0.168478x0.16413)\n",
       "year            AxesSubplot(0.327174,0.321957;0.168478x0.16413)\n",
       "dtype: object"
      ]
     },
     "execution_count": 63,
     "metadata": {},
     "output_type": "execute_result"
    },
    {
     "data": {
      "image/png": "[encoded data removed]",
      "text/plain": [
       "<Figure size 720x720 with 16 Axes>"
      ]
     },
     "metadata": {
      "needs_background": "light"
     },
     "output_type": "display_data"
    }
   ],
   "source": [
    "df.plot(kind='box',subplots= True,layout=(4,4),figsize=(10,10))"
   ]
  },
  {
   "cell_type": "code",
   "execution_count": 64,
   "id": "dd8bc720",
   "metadata": {},
   "outputs": [
    {
     "data": {
      "text/plain": [
       "0         0\n",
       "1         0\n",
       "2         0\n",
       "3         0\n",
       "4         0\n",
       "         ..\n",
       "18244    53\n",
       "18245    53\n",
       "18246    53\n",
       "18247    53\n",
       "18248    53\n",
       "Name: region, Length: 18249, dtype: int32"
      ]
     },
     "execution_count": 64,
     "metadata": {},
     "output_type": "execute_result"
    }
   ],
   "source": [
    "from sklearn import preprocessing\n",
    "le = preprocessing.LabelEncoder()\n",
    "df['type']=le.fit_transform(df['type'])\n",
    "df['type']\n",
    "df['region']=le.fit_transform(df['region'])\n",
    "df['region']"
   ]
  },
  {
   "cell_type": "code",
   "execution_count": 65,
   "id": "ca559bda",
   "metadata": {},
   "outputs": [],
   "source": [
    "import datetime\n"
   ]
  },
  {
   "cell_type": "code",
   "execution_count": 66,
   "id": "222716cb",
   "metadata": {},
   "outputs": [
    {
     "data": {
      "text/plain": [
       "<AxesSubplot:title={'center':'Average price each month'}, xlabel='months', ylabel='AveragePrice'>"
      ]
     },
     "execution_count": 66,
     "metadata": {},
     "output_type": "execute_result"
    },
    {
     "data": {
      "image/png": "[encoded data removed]",
      "text/plain": [
       "<Figure size 432x288 with 1 Axes>"
      ]
     },
     "metadata": {
      "needs_background": "light"
     },
     "output_type": "display_data"
    }
   ],
   "source": [
    "df['Date']=pd.to_datetime(df['Date'])\n",
    "df[\"months\"]=df['Date'].map(lambda x : x.month)\n",
    "plt.title('Average price each month')\n",
    "sns.lineplot(x='months',y='AveragePrice',data=df,hue='type')"
   ]
  },
  {
   "cell_type": "code",
   "execution_count": 67,
   "id": "399c30bd",
   "metadata": {},
   "outputs": [],
   "source": [
    "da=pd.to_datetime(df['Date'],errors='coerce')\n",
    "df['Date']=da.dt.strftime(\"%Y%m%d\").astype(int)"
   ]
  },
  {
   "cell_type": "code",
   "execution_count": 68,
   "id": "b5e37591",
   "metadata": {},
   "outputs": [
    {
     "data": {
      "text/plain": [
       "Date              int32\n",
       "AveragePrice    float64\n",
       "Total Volume    float64\n",
       "4046            float64\n",
       "4225            float64\n",
       "4770            float64\n",
       "Total Bags      float64\n",
       "Small Bags      float64\n",
       "Large Bags      float64\n",
       "XLarge Bags     float64\n",
       "type              int32\n",
       "year              int64\n",
       "region            int32\n",
       "months            int64\n",
       "dtype: object"
      ]
     },
     "execution_count": 68,
     "metadata": {},
     "output_type": "execute_result"
    }
   ],
   "source": [
    "df.dtypes\n"
   ]
  },
  {
   "cell_type": "code",
   "execution_count": 69,
   "id": "5819bf57",
   "metadata": {},
   "outputs": [
    {
     "data": {
      "text/plain": [
       "(18249, 14)"
      ]
     },
     "execution_count": 69,
     "metadata": {},
     "output_type": "execute_result"
    }
   ],
   "source": [
    "df.shape\n"
   ]
  },
  {
   "cell_type": "code",
   "execution_count": 70,
   "id": "30c2985c",
   "metadata": {},
   "outputs": [
    {
     "name": "stdout",
     "output_type": "stream",
     "text": [
      "[[1.1650728  0.18868864 0.10728205 ... 1.22128204 1.7002522  1.64763162]\n",
      " [1.16582202 0.13901962 0.1759487  ... 1.22128204 1.7002522  1.64763162]\n",
      " [1.16657123 1.18206895 0.15869039 ... 1.22128204 1.7002522  1.64763162]\n",
      " ...\n",
      " [1.92748314 1.15237477 0.77890112 ... 1.97050371 1.70081131 1.46495942]\n",
      " [1.92673392 1.30138182 0.70779758 ... 1.97050371 1.70081131 1.46495942]\n",
      " [1.92598471 0.53151208 0.67454176 ... 1.97050371 1.70081131 1.46495942]]\n"
     ]
    }
   ],
   "source": [
    "from scipy.stats import zscore\n",
    "z=np.abs(zscore(df))\n",
    "print(z)"
   ]
  },
  {
   "cell_type": "code",
   "execution_count": 71,
   "id": "12bf78bb",
   "metadata": {},
   "outputs": [
    {
     "name": "stdout",
     "output_type": "stream",
     "text": [
      "(array([    0,     0,     0, ..., 18248, 18248, 18248], dtype=int64), array([ 0,  1,  2, ..., 11, 12, 13], dtype=int64))\n",
      "(18249, 14)\n"
     ]
    }
   ],
   "source": [
    "threshold = 3\n",
    "print(np.where(z<3))\n",
    "print(df.shape)"
   ]
  },
  {
   "cell_type": "code",
   "execution_count": 72,
   "id": "6ab439bb",
   "metadata": {},
   "outputs": [],
   "source": [
    "df_new=df[(z<3).all(axis=1)]\n"
   ]
  },
  {
   "cell_type": "code",
   "execution_count": 73,
   "id": "23f2a864",
   "metadata": {},
   "outputs": [
    {
     "name": "stdout",
     "output_type": "stream",
     "text": [
      "(18249, 14)\n",
      "(17834, 14)\n",
      "shape after removing outliers (17834, 14)\n"
     ]
    }
   ],
   "source": [
    "print(df.shape)\n",
    "print(df_new.shape)\n",
    "df=df_new\n",
    "print('shape after removing outliers',df.shape)"
   ]
  },
  {
   "cell_type": "code",
   "execution_count": 74,
   "id": "a7215699",
   "metadata": {},
   "outputs": [
    {
     "data": {
      "text/plain": [
       "Index(['Date', 'AveragePrice', 'Total Volume', '4046', '4225', '4770',\n",
       "       'Total Bags', 'Small Bags', 'Large Bags', 'XLarge Bags', 'type', 'year',\n",
       "       'region', 'months'],\n",
       "      dtype='object')"
      ]
     },
     "execution_count": 74,
     "metadata": {},
     "output_type": "execute_result"
    }
   ],
   "source": [
    "df.columns\n"
   ]
  },
  {
   "cell_type": "code",
   "execution_count": 75,
   "id": "5a5b68fc",
   "metadata": {},
   "outputs": [
    {
     "name": "stdout",
     "output_type": "stream",
     "text": [
      "2.2412186969148995\n"
     ]
    }
   ],
   "source": [
    "percentage_loss=((18249-17840 )/18249)*100\n",
    "print(percentage_loss)"
   ]
  },
  {
   "cell_type": "code",
   "execution_count": 76,
   "id": "05184ed0",
   "metadata": {},
   "outputs": [
    {
     "name": "stdout",
     "output_type": "stream",
     "text": [
      "Date            19579.000000\n",
      "AveragePrice        0.560000\n",
      "Total Volume        3.670237\n",
      "4046                4.823705\n",
      "4225                3.908651\n",
      "4770                8.783225\n",
      "Total Bags          3.005780\n",
      "Small Bags          3.251940\n",
      "Large Bags          5.098820\n",
      "XLarge Bags         5.036547\n",
      "type                1.000000\n",
      "year                2.000000\n",
      "region             27.000000\n",
      "months              6.000000\n",
      "dtype: float64\n"
     ]
    }
   ],
   "source": [
    "Q1=df.quantile(0.25)\n",
    "Q3=df.quantile(0.75)\n",
    "IQR=Q3-Q1\n",
    "print(IQR)"
   ]
  },
  {
   "cell_type": "code",
   "execution_count": 77,
   "id": "b559dac4",
   "metadata": {},
   "outputs": [
    {
     "data": {
      "text/html": [
       "<div>\n",
       "<style scoped>\n",
       "    .dataframe tbody tr th:only-of-type {\n",
       "        vertical-align: middle;\n",
       "    }\n",
       "\n",
       "    .dataframe tbody tr th {\n",
       "        vertical-align: top;\n",
       "    }\n",
       "\n",
       "    .dataframe thead th {\n",
       "        text-align: right;\n",
       "    }\n",
       "</style>\n",
       "<table border=\"1\" class=\"dataframe\">\n",
       "  <thead>\n",
       "    <tr style=\"text-align: right;\">\n",
       "      <th></th>\n",
       "      <th>Date</th>\n",
       "      <th>AveragePrice</th>\n",
       "      <th>Total Volume</th>\n",
       "      <th>4046</th>\n",
       "      <th>4225</th>\n",
       "      <th>4770</th>\n",
       "      <th>Total Bags</th>\n",
       "      <th>Small Bags</th>\n",
       "      <th>Large Bags</th>\n",
       "      <th>XLarge Bags</th>\n",
       "      <th>type</th>\n",
       "      <th>year</th>\n",
       "      <th>region</th>\n",
       "      <th>months</th>\n",
       "    </tr>\n",
       "  </thead>\n",
       "  <tbody>\n",
       "    <tr>\n",
       "      <th>0</th>\n",
       "      <td>20151227</td>\n",
       "      <td>1.33</td>\n",
       "      <td>11.070344</td>\n",
       "      <td>6.944801</td>\n",
       "      <td>10.905146</td>\n",
       "      <td>3.895080</td>\n",
       "      <td>9.070833</td>\n",
       "      <td>9.060055</td>\n",
       "      <td>4.545951</td>\n",
       "      <td>0.0</td>\n",
       "      <td>0</td>\n",
       "      <td>2015</td>\n",
       "      <td>0</td>\n",
       "      <td>12</td>\n",
       "    </tr>\n",
       "    <tr>\n",
       "      <th>1</th>\n",
       "      <td>20151220</td>\n",
       "      <td>1.35</td>\n",
       "      <td>10.912867</td>\n",
       "      <td>6.515127</td>\n",
       "      <td>10.706381</td>\n",
       "      <td>4.083115</td>\n",
       "      <td>9.159737</td>\n",
       "      <td>9.149429</td>\n",
       "      <td>4.589955</td>\n",
       "      <td>0.0</td>\n",
       "      <td>0</td>\n",
       "      <td>2015</td>\n",
       "      <td>0</td>\n",
       "      <td>12</td>\n",
       "    </tr>\n",
       "    <tr>\n",
       "      <th>2</th>\n",
       "      <td>20151213</td>\n",
       "      <td>0.93</td>\n",
       "      <td>11.680313</td>\n",
       "      <td>6.679222</td>\n",
       "      <td>11.600485</td>\n",
       "      <td>4.879007</td>\n",
       "      <td>9.005325</td>\n",
       "      <td>8.992584</td>\n",
       "      <td>4.645736</td>\n",
       "      <td>0.0</td>\n",
       "      <td>0</td>\n",
       "      <td>2015</td>\n",
       "      <td>0</td>\n",
       "      <td>12</td>\n",
       "    </tr>\n",
       "    <tr>\n",
       "      <th>3</th>\n",
       "      <td>20151206</td>\n",
       "      <td>1.08</td>\n",
       "      <td>11.277116</td>\n",
       "      <td>7.032624</td>\n",
       "      <td>11.184108</td>\n",
       "      <td>4.298373</td>\n",
       "      <td>8.667708</td>\n",
       "      <td>8.644425</td>\n",
       "      <td>4.903495</td>\n",
       "      <td>0.0</td>\n",
       "      <td>0</td>\n",
       "      <td>2015</td>\n",
       "      <td>0</td>\n",
       "      <td>12</td>\n",
       "    </tr>\n",
       "    <tr>\n",
       "      <th>4</th>\n",
       "      <td>20151129</td>\n",
       "      <td>1.28</td>\n",
       "      <td>10.840377</td>\n",
       "      <td>6.848515</td>\n",
       "      <td>10.688288</td>\n",
       "      <td>4.340944</td>\n",
       "      <td>8.729874</td>\n",
       "      <td>8.697389</td>\n",
       "      <td>5.291746</td>\n",
       "      <td>0.0</td>\n",
       "      <td>0</td>\n",
       "      <td>2015</td>\n",
       "      <td>0</td>\n",
       "      <td>11</td>\n",
       "    </tr>\n",
       "    <tr>\n",
       "      <th>...</th>\n",
       "      <td>...</td>\n",
       "      <td>...</td>\n",
       "      <td>...</td>\n",
       "      <td>...</td>\n",
       "      <td>...</td>\n",
       "      <td>...</td>\n",
       "      <td>...</td>\n",
       "      <td>...</td>\n",
       "      <td>...</td>\n",
       "      <td>...</td>\n",
       "      <td>...</td>\n",
       "      <td>...</td>\n",
       "      <td>...</td>\n",
       "      <td>...</td>\n",
       "    </tr>\n",
       "    <tr>\n",
       "      <th>18244</th>\n",
       "      <td>20180204</td>\n",
       "      <td>1.63</td>\n",
       "      <td>9.745419</td>\n",
       "      <td>7.624599</td>\n",
       "      <td>7.333154</td>\n",
       "      <td>0.000000</td>\n",
       "      <td>9.510421</td>\n",
       "      <td>9.477908</td>\n",
       "      <td>6.070391</td>\n",
       "      <td>0.0</td>\n",
       "      <td>1</td>\n",
       "      <td>2018</td>\n",
       "      <td>53</td>\n",
       "      <td>2</td>\n",
       "    </tr>\n",
       "    <tr>\n",
       "      <th>18245</th>\n",
       "      <td>20180128</td>\n",
       "      <td>1.71</td>\n",
       "      <td>9.538855</td>\n",
       "      <td>7.083975</td>\n",
       "      <td>8.141044</td>\n",
       "      <td>0.000000</td>\n",
       "      <td>9.134090</td>\n",
       "      <td>9.098407</td>\n",
       "      <td>5.786284</td>\n",
       "      <td>0.0</td>\n",
       "      <td>1</td>\n",
       "      <td>2018</td>\n",
       "      <td>53</td>\n",
       "      <td>1</td>\n",
       "    </tr>\n",
       "    <tr>\n",
       "      <th>18246</th>\n",
       "      <td>20180121</td>\n",
       "      <td>1.87</td>\n",
       "      <td>9.530085</td>\n",
       "      <td>7.084159</td>\n",
       "      <td>7.805389</td>\n",
       "      <td>6.591591</td>\n",
       "      <td>9.147945</td>\n",
       "      <td>9.143431</td>\n",
       "      <td>3.768384</td>\n",
       "      <td>0.0</td>\n",
       "      <td>1</td>\n",
       "      <td>2018</td>\n",
       "      <td>53</td>\n",
       "      <td>1</td>\n",
       "    </tr>\n",
       "    <tr>\n",
       "      <th>18247</th>\n",
       "      <td>20180114</td>\n",
       "      <td>1.93</td>\n",
       "      <td>9.693150</td>\n",
       "      <td>7.332127</td>\n",
       "      <td>8.000363</td>\n",
       "      <td>6.590315</td>\n",
       "      <td>9.302969</td>\n",
       "      <td>9.298401</td>\n",
       "      <td>3.931826</td>\n",
       "      <td>0.0</td>\n",
       "      <td>1</td>\n",
       "      <td>2018</td>\n",
       "      <td>53</td>\n",
       "      <td>1</td>\n",
       "    </tr>\n",
       "    <tr>\n",
       "      <th>18248</th>\n",
       "      <td>20180107</td>\n",
       "      <td>1.62</td>\n",
       "      <td>9.769418</td>\n",
       "      <td>7.971006</td>\n",
       "      <td>7.765200</td>\n",
       "      <td>5.418453</td>\n",
       "      <td>9.393924</td>\n",
       "      <td>9.391757</td>\n",
       "      <td>3.296207</td>\n",
       "      <td>0.0</td>\n",
       "      <td>1</td>\n",
       "      <td>2018</td>\n",
       "      <td>53</td>\n",
       "      <td>1</td>\n",
       "    </tr>\n",
       "  </tbody>\n",
       "</table>\n",
       "<p>17528 rows × 14 columns</p>\n",
       "</div>"
      ],
      "text/plain": [
       "           Date  AveragePrice  Total Volume      4046       4225      4770  \\\n",
       "0      20151227          1.33     11.070344  6.944801  10.905146  3.895080   \n",
       "1      20151220          1.35     10.912867  6.515127  10.706381  4.083115   \n",
       "2      20151213          0.93     11.680313  6.679222  11.600485  4.879007   \n",
       "3      20151206          1.08     11.277116  7.032624  11.184108  4.298373   \n",
       "4      20151129          1.28     10.840377  6.848515  10.688288  4.340944   \n",
       "...         ...           ...           ...       ...        ...       ...   \n",
       "18244  20180204          1.63      9.745419  7.624599   7.333154  0.000000   \n",
       "18245  20180128          1.71      9.538855  7.083975   8.141044  0.000000   \n",
       "18246  20180121          1.87      9.530085  7.084159   7.805389  6.591591   \n",
       "18247  20180114          1.93      9.693150  7.332127   8.000363  6.590315   \n",
       "18248  20180107          1.62      9.769418  7.971006   7.765200  5.418453   \n",
       "\n",
       "       Total Bags  Small Bags  Large Bags  XLarge Bags  type  year  region  \\\n",
       "0        9.070833    9.060055    4.545951          0.0     0  2015       0   \n",
       "1        9.159737    9.149429    4.589955          0.0     0  2015       0   \n",
       "2        9.005325    8.992584    4.645736          0.0     0  2015       0   \n",
       "3        8.667708    8.644425    4.903495          0.0     0  2015       0   \n",
       "4        8.729874    8.697389    5.291746          0.0     0  2015       0   \n",
       "...           ...         ...         ...          ...   ...   ...     ...   \n",
       "18244    9.510421    9.477908    6.070391          0.0     1  2018      53   \n",
       "18245    9.134090    9.098407    5.786284          0.0     1  2018      53   \n",
       "18246    9.147945    9.143431    3.768384          0.0     1  2018      53   \n",
       "18247    9.302969    9.298401    3.931826          0.0     1  2018      53   \n",
       "18248    9.393924    9.391757    3.296207          0.0     1  2018      53   \n",
       "\n",
       "       months  \n",
       "0          12  \n",
       "1          12  \n",
       "2          12  \n",
       "3          12  \n",
       "4          11  \n",
       "...       ...  \n",
       "18244       2  \n",
       "18245       1  \n",
       "18246       1  \n",
       "18247       1  \n",
       "18248       1  \n",
       "\n",
       "[17528 rows x 14 columns]"
      ]
     },
     "execution_count": 77,
     "metadata": {},
     "output_type": "execute_result"
    }
   ],
   "source": [
    "new_df2=df[~((df<Q1-(1.5*IQR))|(df>(Q3+(1.5*IQR)))).any(axis=1)]\n",
    "new_df2"
   ]
  },
  {
   "cell_type": "code",
   "execution_count": 78,
   "id": "1d208743",
   "metadata": {},
   "outputs": [
    {
     "name": "stdout",
     "output_type": "stream",
     "text": [
      "36.774617787276014\n"
     ]
    }
   ],
   "source": [
    "percentage_loss=((18249-11538  )/18249)*100\n",
    "print(percentage_loss)"
   ]
  },
  {
   "cell_type": "code",
   "execution_count": 79,
   "id": "512ed1ae",
   "metadata": {},
   "outputs": [
    {
     "data": {
      "text/plain": [
       "Index(['Date', 'AveragePrice', 'Total Volume', '4046', '4225', '4770',\n",
       "       'Total Bags', 'Small Bags', 'Large Bags', 'XLarge Bags', 'type', 'year',\n",
       "       'region', 'months'],\n",
       "      dtype='object')"
      ]
     },
     "execution_count": 79,
     "metadata": {},
     "output_type": "execute_result"
    }
   ],
   "source": [
    "df.columns\n"
   ]
  },
  {
   "cell_type": "code",
   "execution_count": 80,
   "id": "55fb2363",
   "metadata": {},
   "outputs": [],
   "source": [
    "from sklearn.model_selection import train_test_split\n",
    "x = df_new.iloc[:,2:13]\n",
    "y = df_new['AveragePrice']"
   ]
  },
  {
   "cell_type": "code",
   "execution_count": 81,
   "id": "9f936260",
   "metadata": {},
   "outputs": [
    {
     "data": {
      "text/plain": [
       "array([[-0.13249789, -0.62742619,  0.35800125, ..., -0.97748783,\n",
       "        -1.22957126, -1.69078431],\n",
       "       [-0.20162572, -0.75550098,  0.28688711, ..., -0.97748783,\n",
       "        -1.22957126, -1.69078431],\n",
       "       [ 0.13526087, -0.70658843,  0.6067806 , ..., -0.97748783,\n",
       "        -1.22957126, -1.69078431],\n",
       "       ...,\n",
       "       [-0.8086277 , -0.58588682, -0.75103402, ...,  1.02303064,\n",
       "         1.96090944,  1.71404749],\n",
       "       [-0.73704662, -0.51197383, -0.681276  , ...,  1.02303064,\n",
       "         1.96090944,  1.71404749],\n",
       "       [-0.70356744, -0.32153998, -0.76541289, ...,  1.02303064,\n",
       "         1.96090944,  1.71404749]])"
      ]
     },
     "execution_count": 81,
     "metadata": {},
     "output_type": "execute_result"
    }
   ],
   "source": [
    "sc=StandardScaler()\n",
    "x=sc.fit_transform(x)\n",
    "x"
   ]
  },
  {
   "cell_type": "code",
   "execution_count": 82,
   "id": "020f2753",
   "metadata": {},
   "outputs": [],
   "source": [
    "y=le.fit_transform(y)\n"
   ]
  },
  {
   "cell_type": "code",
   "execution_count": 83,
   "id": "e62874d1",
   "metadata": {},
   "outputs": [],
   "source": [
    "from sklearn.preprocessing import power_transform\n",
    "x=power_transform(x,method='yeo-johnson')"
   ]
  },
  {
   "cell_type": "code",
   "execution_count": null,
   "id": "2f2a99e3",
   "metadata": {},
   "outputs": [],
   "source": [
    "Classification"
   ]
  },
  {
   "cell_type": "code",
   "execution_count": 84,
   "id": "35dc1288",
   "metadata": {},
   "outputs": [],
   "source": [
    "from sklearn.linear_model import LogisticRegression\n",
    "from sklearn.naive_bayes import GaussianNB\n",
    "from sklearn.svm import SVC\n",
    "from sklearn.tree import DecisionTreeClassifier\n",
    "from sklearn.ensemble import RandomForestClassifier\n",
    "from sklearn.model_selection import train_test_split\n",
    "from sklearn.metrics import confusion_matrix\n",
    "from sklearn.metrics import accuracy_score\n",
    "from sklearn.metrics import classification_report"
   ]
  },
  {
   "cell_type": "code",
   "execution_count": 85,
   "id": "0ab82480",
   "metadata": {},
   "outputs": [],
   "source": [
    "x_train, x_test, y_train, y_test = train_test_split(x, y, test_size = 0.2, random_state = 42)\n"
   ]
  },
  {
   "cell_type": "code",
   "execution_count": 87,
   "id": "b7cb2182",
   "metadata": {},
   "outputs": [
    {
     "name": "stdout",
     "output_type": "stream",
     "text": [
      "0.022427810485001403\n",
      "[[0 0 0 ... 0 0 0]\n",
      " [0 0 0 ... 0 0 0]\n",
      " [0 0 0 ... 0 0 0]\n",
      " ...\n",
      " [0 0 0 ... 0 0 0]\n",
      " [0 0 0 ... 0 0 0]\n",
      " [0 0 0 ... 0 0 0]]\n",
      "              precision    recall  f1-score   support\n",
      "\n",
      "           1       0.00      0.00      0.00         1\n",
      "           4       0.00      0.00      0.00         1\n",
      "           5       0.00      0.00      0.00         1\n",
      "           7       0.00      0.00      0.00         1\n",
      "           9       0.00      0.00      0.00         2\n",
      "          10       0.00      0.00      0.00         1\n",
      "          11       0.00      0.00      0.00         3\n",
      "          12       0.00      0.00      0.00         2\n",
      "          13       0.00      0.00      0.00         1\n",
      "          14       0.00      0.00      0.00         2\n",
      "          15       0.00      0.00      0.00         3\n",
      "          16       0.00      0.00      0.00         3\n",
      "          17       0.00      0.00      0.00         2\n",
      "          18       0.00      0.00      0.00         5\n",
      "          19       0.00      0.00      0.00         4\n",
      "          20       0.00      0.00      0.00         3\n",
      "          21       0.00      0.00      0.00         2\n",
      "          22       0.00      0.00      0.00         3\n",
      "          23       0.00      0.00      0.00         9\n",
      "          24       0.00      0.00      0.00         6\n",
      "          25       0.00      0.00      0.00         7\n",
      "          26       0.00      0.00      0.00         6\n",
      "          27       0.00      0.00      0.00        13\n",
      "          28       0.00      0.00      0.00        10\n",
      "          29       0.00      0.00      0.00        10\n",
      "          30       0.00      0.00      0.00        13\n",
      "          31       0.00      0.00      0.00         7\n",
      "          32       0.00      0.00      0.00        14\n",
      "          33       0.00      0.00      0.00        12\n",
      "          34       0.00      0.00      0.00        14\n",
      "          35       0.00      0.00      0.00         9\n",
      "          36       0.00      0.00      0.00        18\n",
      "          37       0.00      0.00      0.00        12\n",
      "          38       0.00      0.00      0.00         9\n",
      "          39       0.00      0.00      0.00         8\n",
      "          40       0.00      0.00      0.00        13\n",
      "          41       0.00      0.00      0.00        19\n",
      "          42       0.00      0.00      0.00        20\n",
      "          43       0.00      0.00      0.00        16\n",
      "          44       0.00      0.00      0.00        24\n",
      "          45       0.00      0.00      0.00        24\n",
      "          46       0.00      0.00      0.00        22\n",
      "          47       0.00      0.00      0.00        33\n",
      "          48       0.00      0.00      0.00        25\n",
      "          49       0.00      0.00      0.00        28\n",
      "          50       0.04      0.17      0.06        29\n",
      "          51       0.03      0.05      0.04        44\n",
      "          52       0.02      0.12      0.04        34\n",
      "          53       0.02      0.03      0.02        38\n",
      "          54       0.00      0.00      0.00        35\n",
      "          55       0.02      0.03      0.02        34\n",
      "          56       0.02      0.08      0.03        36\n",
      "          57       0.01      0.03      0.02        33\n",
      "          58       0.04      0.03      0.03        32\n",
      "          59       0.00      0.00      0.00        38\n",
      "          60       0.00      0.00      0.00        39\n",
      "          61       0.02      0.05      0.03        39\n",
      "          62       0.08      0.07      0.08        40\n",
      "          63       0.00      0.00      0.00        34\n",
      "          64       0.00      0.00      0.00        35\n",
      "          65       0.00      0.00      0.00        42\n",
      "          66       0.04      0.15      0.06        34\n",
      "          67       0.00      0.00      0.00        37\n",
      "          68       0.03      0.05      0.04        42\n",
      "          69       0.05      0.06      0.06        31\n",
      "          70       0.03      0.03      0.03        36\n",
      "          71       0.07      0.07      0.07        41\n",
      "          72       0.00      0.00      0.00        35\n",
      "          73       0.00      0.00      0.00        24\n",
      "          74       0.00      0.00      0.00        24\n",
      "          75       0.00      0.00      0.00        34\n",
      "          76       0.04      0.17      0.06        23\n",
      "          77       0.00      0.00      0.00        38\n",
      "          78       0.00      0.00      0.00        32\n",
      "          79       0.03      0.07      0.04        41\n",
      "          80       0.00      0.00      0.00        22\n",
      "          81       0.00      0.00      0.00        29\n",
      "          82       0.00      0.00      0.00        31\n",
      "          83       0.00      0.00      0.00        25\n",
      "          84       0.00      0.00      0.00        22\n",
      "          85       0.00      0.00      0.00        27\n",
      "          86       0.00      0.00      0.00        35\n",
      "          87       0.00      0.00      0.00        31\n",
      "          88       0.00      0.00      0.00        33\n",
      "          89       0.00      0.00      0.00        44\n",
      "          90       0.00      0.00      0.00        31\n",
      "          91       0.05      0.12      0.07        40\n",
      "          92       0.00      0.00      0.00        32\n",
      "          93       0.00      0.00      0.00        30\n",
      "          94       0.02      0.07      0.03        30\n",
      "          95       0.00      0.00      0.00        24\n",
      "          96       0.00      0.00      0.00        33\n",
      "          97       0.03      0.09      0.05        34\n",
      "          98       0.00      0.00      0.00        35\n",
      "          99       0.20      0.02      0.04        41\n",
      "         100       0.00      0.00      0.00        24\n",
      "         101       0.00      0.00      0.00        41\n",
      "         102       0.01      0.08      0.02        24\n",
      "         103       0.00      0.00      0.00        32\n",
      "         104       0.00      0.00      0.00        29\n",
      "         105       0.00      0.00      0.00        27\n",
      "         106       0.17      0.03      0.06        29\n",
      "         107       0.00      0.00      0.00        37\n",
      "         108       0.00      0.00      0.00        31\n",
      "         109       0.03      0.04      0.03        27\n",
      "         110       0.00      0.00      0.00        24\n",
      "         111       0.00      0.00      0.00        28\n",
      "         112       0.04      0.24      0.06        37\n",
      "         113       0.00      0.00      0.00        33\n",
      "         114       0.00      0.00      0.00        31\n",
      "         115       0.03      0.03      0.03        29\n",
      "         116       0.03      0.04      0.03        28\n",
      "         117       0.00      0.00      0.00        34\n",
      "         118       0.11      0.04      0.05        28\n",
      "         119       0.00      0.00      0.00        29\n",
      "         120       0.00      0.00      0.00        29\n",
      "         121       0.00      0.00      0.00        28\n",
      "         122       0.03      0.04      0.03        27\n",
      "         123       0.00      0.00      0.00        30\n",
      "         124       0.00      0.00      0.00        19\n",
      "         125       0.00      0.00      0.00        24\n",
      "         126       0.00      0.00      0.00        17\n",
      "         127       0.00      0.00      0.00        22\n",
      "         128       0.00      0.00      0.00        17\n",
      "         129       0.00      0.00      0.00        25\n",
      "         130       0.00      0.00      0.00        17\n",
      "         131       0.00      0.00      0.00        21\n",
      "         132       0.00      0.00      0.00        22\n",
      "         133       0.08      0.05      0.06        22\n",
      "         134       0.00      0.00      0.00        18\n",
      "         135       0.03      0.08      0.05        24\n",
      "         136       0.04      0.17      0.07        18\n",
      "         137       0.25      0.05      0.09        19\n",
      "         138       0.00      0.00      0.00        16\n",
      "         139       0.00      0.00      0.00        18\n",
      "         140       0.02      0.07      0.03        15\n",
      "         141       0.00      0.00      0.00        11\n",
      "         142       0.00      0.00      0.00        13\n",
      "         143       0.00      0.00      0.00        20\n",
      "         144       0.00      0.00      0.00        14\n",
      "         145       0.00      0.00      0.00        17\n",
      "         146       0.00      0.00      0.00        13\n",
      "         147       0.00      0.00      0.00        12\n",
      "         148       0.00      0.00      0.00         9\n",
      "         149       0.00      0.00      0.00        11\n",
      "         150       0.00      0.00      0.00        11\n",
      "         151       0.00      0.00      0.00         8\n",
      "         152       0.00      0.00      0.00        13\n",
      "         153       0.00      0.00      0.00        10\n",
      "         154       0.00      0.00      0.00        13\n",
      "         155       0.00      0.00      0.00        10\n",
      "         156       0.00      0.00      0.00         5\n",
      "         157       0.00      0.00      0.00         9\n",
      "         158       0.00      0.00      0.00         5\n",
      "         159       0.14      0.09      0.11        11\n",
      "         160       0.00      0.00      0.00         5\n",
      "         161       0.00      0.00      0.00         6\n",
      "         162       0.00      0.00      0.00         8\n",
      "         163       0.00      0.00      0.00         3\n",
      "         164       0.00      0.00      0.00         8\n",
      "         165       0.00      0.00      0.00         5\n",
      "         166       0.00      0.00      0.00         6\n",
      "         167       0.00      0.00      0.00         3\n",
      "         168       0.00      0.00      0.00         8\n",
      "         169       0.00      0.00      0.00         7\n",
      "         170       0.00      0.00      0.00         6\n",
      "         171       0.00      0.00      0.00         8\n",
      "         172       0.00      0.00      0.00         3\n",
      "         173       0.00      0.00      0.00         7\n",
      "         174       0.00      0.00      0.00         3\n",
      "         175       0.00      0.00      0.00         8\n",
      "         176       0.00      0.00      0.00         6\n",
      "         177       0.00      0.00      0.00         5\n",
      "         178       0.00      0.00      0.00         5\n",
      "         180       0.00      0.00      0.00         4\n",
      "         181       0.00      0.00      0.00         2\n",
      "         182       0.00      0.00      0.00         3\n",
      "         183       0.00      0.00      0.00         2\n",
      "         184       0.00      0.00      0.00         5\n",
      "         185       0.00      0.00      0.00         7\n",
      "         186       0.00      0.00      0.00         5\n",
      "         187       0.00      0.00      0.00         2\n",
      "         188       0.00      0.00      0.00         1\n",
      "         189       0.00      0.00      0.00         5\n",
      "         190       0.00      0.00      0.00         1\n",
      "         191       0.00      0.00      0.00         1\n",
      "         192       0.00      0.00      0.00         1\n",
      "         193       0.00      0.00      0.00         4\n",
      "         194       0.00      0.00      0.00         1\n",
      "         195       0.00      0.00      0.00         2\n",
      "         197       0.00      0.00      0.00         3\n",
      "         198       0.00      0.00      0.00         1\n",
      "         199       0.00      0.00      0.00         2\n",
      "         200       0.00      0.00      0.00         1\n",
      "         201       0.00      0.00      0.00         1\n",
      "         204       0.00      0.00      0.00         1\n",
      "         208       0.00      0.00      0.00         3\n",
      "         210       0.00      0.00      0.00         3\n",
      "         211       0.00      0.00      0.00         2\n",
      "         212       0.00      0.00      0.00         3\n",
      "         213       0.00      0.00      0.00         1\n",
      "         214       0.00      0.00      0.00         1\n",
      "\n",
      "    accuracy                           0.02      3567\n",
      "   macro avg       0.01      0.01      0.01      3567\n",
      "weighted avg       0.02      0.02      0.01      3567\n",
      "\n"
     ]
    }
   ],
   "source": [
    "lr=LogisticRegression()\n",
    "\n",
    "lr.fit(x_train,y_train)\n",
    "lr.score(x_train,y_train)\n",
    "predlr=lr.predict(x_test)\n",
    "print(accuracy_score(y_test,predlr))\n",
    "print(confusion_matrix(y_test,predlr))\n",
    "print(classification_report(y_test,predlr))"
   ]
  },
  {
   "cell_type": "code",
   "execution_count": 88,
   "id": "937db21b",
   "metadata": {},
   "outputs": [],
   "source": [
    "gnb=GaussianNB()\n"
   ]
  },
  {
   "cell_type": "code",
   "execution_count": 89,
   "id": "ba5a19f6",
   "metadata": {},
   "outputs": [
    {
     "name": "stdout",
     "output_type": "stream",
     "text": [
      "0.008690776562938042\n",
      "[[0 0 0 ... 0 0 0]\n",
      " [0 0 0 ... 0 0 0]\n",
      " [0 0 0 ... 0 0 0]\n",
      " ...\n",
      " [0 0 0 ... 2 0 0]\n",
      " [0 0 0 ... 0 0 0]\n",
      " [0 0 0 ... 0 0 0]]\n",
      "              precision    recall  f1-score   support\n",
      "\n",
      "           1       0.00      0.00      0.00         1\n",
      "           3       0.00      0.00      0.00         0\n",
      "           4       0.00      0.00      0.00         1\n",
      "           5       0.00      0.00      0.00         1\n",
      "           7       0.00      0.00      0.00         1\n",
      "           8       0.00      0.00      0.00         0\n",
      "           9       0.00      0.00      0.00         2\n",
      "          10       0.00      0.00      0.00         1\n",
      "          11       0.00      0.00      0.00         3\n",
      "          12       0.20      0.50      0.29         2\n",
      "          13       0.00      0.00      0.00         1\n",
      "          14       0.00      0.00      0.00         2\n",
      "          15       0.00      0.00      0.00         3\n",
      "          16       0.01      0.67      0.01         3\n",
      "          17       0.00      0.00      0.00         2\n",
      "          18       0.00      0.00      0.00         5\n",
      "          19       0.00      0.00      0.00         4\n",
      "          20       0.00      0.00      0.00         3\n",
      "          21       0.00      0.00      0.00         2\n",
      "          22       0.00      0.00      0.00         3\n",
      "          23       0.00      0.00      0.00         9\n",
      "          24       0.01      0.17      0.01         6\n",
      "          25       0.00      0.00      0.00         7\n",
      "          26       0.00      0.00      0.00         6\n",
      "          27       0.00      0.00      0.00        13\n",
      "          28       0.00      0.00      0.00        10\n",
      "          29       0.01      0.50      0.02        10\n",
      "          30       0.00      0.00      0.00        13\n",
      "          31       0.00      0.00      0.00         7\n",
      "          32       0.00      0.00      0.00        14\n",
      "          33       0.00      0.00      0.00        12\n",
      "          34       0.00      0.00      0.00        14\n",
      "          35       0.00      0.00      0.00         9\n",
      "          36       0.00      0.00      0.00        18\n",
      "          37       0.00      0.00      0.00        12\n",
      "          38       0.00      0.00      0.00         9\n",
      "          39       0.00      0.00      0.00         8\n",
      "          40       0.00      0.00      0.00        13\n",
      "          41       0.00      0.00      0.00        19\n",
      "          42       0.00      0.00      0.00        20\n",
      "          43       0.00      0.00      0.00        16\n",
      "          44       0.00      0.00      0.00        24\n",
      "          45       0.00      0.00      0.00        24\n",
      "          46       0.00      0.00      0.00        22\n",
      "          47       0.00      0.00      0.00        33\n",
      "          48       0.00      0.00      0.00        25\n",
      "          49       0.00      0.00      0.00        28\n",
      "          50       0.00      0.00      0.00        29\n",
      "          51       0.00      0.00      0.00        44\n",
      "          52       0.00      0.00      0.00        34\n",
      "          53       0.00      0.00      0.00        38\n",
      "          54       0.00      0.00      0.00        35\n",
      "          55       0.00      0.00      0.00        34\n",
      "          56       0.00      0.00      0.00        36\n",
      "          57       0.00      0.00      0.00        33\n",
      "          58       0.00      0.00      0.00        32\n",
      "          59       0.00      0.00      0.00        38\n",
      "          60       0.00      0.00      0.00        39\n",
      "          61       0.00      0.00      0.00        39\n",
      "          62       0.00      0.00      0.00        40\n",
      "          63       0.00      0.00      0.00        34\n",
      "          64       0.06      0.06      0.06        35\n",
      "          65       0.00      0.00      0.00        42\n",
      "          66       0.00      0.00      0.00        34\n",
      "          67       0.00      0.00      0.00        37\n",
      "          68       0.00      0.00      0.00        42\n",
      "          69       0.00      0.00      0.00        31\n",
      "          70       0.00      0.00      0.00        36\n",
      "          71       0.00      0.00      0.00        41\n",
      "          72       0.00      0.00      0.00        35\n",
      "          73       0.00      0.00      0.00        24\n",
      "          74       0.00      0.00      0.00        24\n",
      "          75       0.00      0.00      0.00        34\n",
      "          76       0.00      0.00      0.00        23\n",
      "          77       0.00      0.00      0.00        38\n",
      "          78       0.08      0.03      0.04        32\n",
      "          79       0.02      0.02      0.02        41\n",
      "          80       0.00      0.00      0.00        22\n",
      "          81       0.00      0.00      0.00        29\n",
      "          82       0.00      0.00      0.00        31\n",
      "          83       0.00      0.00      0.00        25\n",
      "          84       0.00      0.00      0.00        22\n",
      "          85       0.00      0.00      0.00        27\n",
      "          86       0.00      0.00      0.00        35\n",
      "          87       0.00      0.00      0.00        31\n",
      "          88       0.00      0.00      0.00        33\n",
      "          89       0.00      0.00      0.00        44\n",
      "          90       0.00      0.00      0.00        31\n",
      "          91       0.00      0.00      0.00        40\n",
      "          92       0.00      0.00      0.00        32\n",
      "          93       0.10      0.07      0.08        30\n",
      "          94       0.00      0.00      0.00        30\n",
      "          95       0.17      0.04      0.07        24\n",
      "          96       0.00      0.00      0.00        33\n",
      "          97       0.00      0.00      0.00        34\n",
      "          98       0.00      0.00      0.00        35\n",
      "          99       0.00      0.00      0.00        41\n",
      "         100       0.00      0.00      0.00        24\n",
      "         101       0.00      0.00      0.00        41\n",
      "         102       0.00      0.00      0.00        24\n",
      "         103       0.00      0.00      0.00        32\n",
      "         104       0.00      0.00      0.00        29\n",
      "         105       0.00      0.00      0.00        27\n",
      "         106       0.00      0.00      0.00        29\n",
      "         107       0.00      0.00      0.00        37\n",
      "         108       0.00      0.00      0.00        31\n",
      "         109       0.00      0.00      0.00        27\n",
      "         110       0.00      0.00      0.00        24\n",
      "         111       0.00      0.00      0.00        28\n",
      "         112       0.00      0.00      0.00        37\n",
      "         113       0.00      0.00      0.00        33\n",
      "         114       0.00      0.00      0.00        31\n",
      "         115       0.00      0.00      0.00        29\n",
      "         116       0.00      0.00      0.00        28\n",
      "         117       0.00      0.00      0.00        34\n",
      "         118       0.00      0.00      0.00        28\n",
      "         119       0.00      0.00      0.00        29\n",
      "         120       0.00      0.00      0.00        29\n",
      "         121       0.00      0.00      0.00        28\n",
      "         122       0.00      0.00      0.00        27\n",
      "         123       0.00      0.00      0.00        30\n",
      "         124       0.00      0.00      0.00        19\n",
      "         125       0.00      0.00      0.00        24\n",
      "         126       0.00      0.00      0.00        17\n",
      "         127       0.00      0.00      0.00        22\n",
      "         128       0.00      0.00      0.00        17\n",
      "         129       0.00      0.00      0.00        25\n",
      "         130       0.00      0.00      0.00        17\n",
      "         131       0.00      0.00      0.00        21\n",
      "         132       0.00      0.00      0.00        22\n",
      "         133       0.00      0.00      0.00        22\n",
      "         134       0.00      0.00      0.00        18\n",
      "         135       0.00      0.00      0.00        24\n",
      "         136       0.00      0.00      0.00        18\n",
      "         137       0.00      0.00      0.00        19\n",
      "         138       0.00      0.00      0.00        16\n",
      "         139       0.00      0.00      0.00        18\n",
      "         140       0.02      0.40      0.03        15\n",
      "         141       0.00      0.00      0.00        11\n",
      "         142       0.00      0.00      0.00        13\n",
      "         143       0.00      0.00      0.00        20\n",
      "         144       0.01      0.07      0.01        14\n",
      "         145       0.00      0.00      0.00        17\n",
      "         146       0.00      0.00      0.00        13\n",
      "         147       0.00      0.00      0.00        12\n",
      "         148       0.00      0.00      0.00         9\n",
      "         149       0.00      0.00      0.00        11\n",
      "         150       0.00      0.00      0.00        11\n",
      "         151       0.00      0.00      0.00         8\n",
      "         152       0.00      0.00      0.00        13\n",
      "         153       0.00      0.00      0.00        10\n",
      "         154       0.00      0.00      0.00        13\n",
      "         155       0.00      0.00      0.00        10\n",
      "         156       0.00      0.00      0.00         5\n",
      "         157       0.00      0.00      0.00         9\n",
      "         158       0.00      0.00      0.00         5\n",
      "         159       0.00      0.00      0.00        11\n",
      "         160       0.00      0.00      0.00         5\n",
      "         161       0.00      0.00      0.00         6\n",
      "         162       0.00      0.00      0.00         8\n",
      "         163       0.01      0.33      0.01         3\n",
      "         164       0.00      0.00      0.00         8\n",
      "         165       0.02      0.20      0.04         5\n",
      "         166       0.00      0.00      0.00         6\n",
      "         167       0.00      0.00      0.00         3\n",
      "         168       0.00      0.00      0.00         8\n",
      "         169       0.00      0.00      0.00         7\n",
      "         170       0.00      0.00      0.00         6\n",
      "         171       0.00      0.00      0.00         8\n",
      "         172       0.00      0.00      0.00         3\n",
      "         173       0.00      0.00      0.00         7\n",
      "         174       0.00      0.00      0.00         3\n",
      "         175       0.00      0.00      0.00         8\n",
      "         176       0.00      0.00      0.00         6\n",
      "         177       0.00      0.00      0.00         5\n",
      "         178       0.00      0.00      0.00         5\n",
      "         179       0.00      0.00      0.00         0\n",
      "         180       0.00      0.00      0.00         4\n",
      "         181       0.00      0.00      0.00         2\n",
      "         182       0.00      0.00      0.00         3\n",
      "         183       0.00      0.00      0.00         2\n",
      "         184       0.03      0.60      0.05         5\n",
      "         185       0.00      0.00      0.00         7\n",
      "         186       0.03      0.20      0.05         5\n",
      "         187       0.00      0.00      0.00         2\n",
      "         188       0.00      0.00      0.00         1\n",
      "         189       0.00      0.00      0.00         5\n",
      "         190       0.00      0.00      0.00         1\n",
      "         191       0.00      0.00      0.00         1\n",
      "         192       0.00      0.00      0.00         1\n",
      "         193       0.00      0.00      0.00         4\n",
      "         194       0.00      0.00      0.00         1\n",
      "         195       0.00      0.00      0.00         2\n",
      "         197       0.00      0.00      0.00         3\n",
      "         198       0.00      0.00      0.00         1\n",
      "         199       0.00      0.00      0.00         2\n",
      "         200       0.00      0.00      0.00         1\n",
      "         201       0.00      0.00      0.00         1\n",
      "         203       0.00      0.00      0.00         0\n",
      "         204       0.00      0.00      0.00         1\n",
      "         206       0.00      0.00      0.00         0\n",
      "         207       0.00      0.00      0.00         0\n",
      "         208       0.00      0.00      0.00         3\n",
      "         209       0.00      0.00      0.00         0\n",
      "         210       0.00      0.00      0.00         3\n",
      "         211       0.00      0.00      0.00         2\n",
      "         212       0.02      0.67      0.04         3\n",
      "         213       0.00      0.00      0.00         1\n",
      "         214       0.00      0.00      0.00         1\n",
      "\n",
      "    accuracy                           0.01      3567\n",
      "   macro avg       0.00      0.02      0.00      3567\n",
      "weighted avg       0.00      0.01      0.00      3567\n",
      "\n"
     ]
    }
   ],
   "source": [
    "gnb.fit(x_train,y_train)\n",
    "gnb.score(x_train,y_train)\n",
    "predgnb=gnb.predict(x_test)\n",
    "print(accuracy_score(y_test,predgnb))\n",
    "print(confusion_matrix(y_test,predgnb))\n",
    "print(classification_report(y_test,predgnb))\n"
   ]
  },
  {
   "cell_type": "code",
   "execution_count": 90,
   "id": "a0686521",
   "metadata": {},
   "outputs": [
    {
     "name": "stdout",
     "output_type": "stream",
     "text": [
      "0.025511634426689096\n",
      "[[0 0 0 ... 0 0 0]\n",
      " [0 0 0 ... 0 0 0]\n",
      " [0 0 0 ... 0 0 0]\n",
      " ...\n",
      " [0 0 0 ... 0 0 0]\n",
      " [0 0 0 ... 0 0 0]\n",
      " [0 0 0 ... 0 0 0]]\n",
      "              precision    recall  f1-score   support\n",
      "\n",
      "           1       0.00      0.00      0.00         1\n",
      "           4       0.00      0.00      0.00         1\n",
      "           5       0.00      0.00      0.00         1\n",
      "           7       0.00      0.00      0.00         1\n",
      "           9       0.00      0.00      0.00         2\n",
      "          10       0.00      0.00      0.00         1\n",
      "          11       0.00      0.00      0.00         3\n",
      "          12       0.00      0.00      0.00         2\n",
      "          13       0.00      0.00      0.00         1\n",
      "          14       0.00      0.00      0.00         2\n",
      "          15       0.00      0.00      0.00         3\n",
      "          16       0.00      0.00      0.00         3\n",
      "          17       0.00      0.00      0.00         2\n",
      "          18       0.00      0.00      0.00         5\n",
      "          19       0.00      0.00      0.00         4\n",
      "          20       0.00      0.00      0.00         3\n",
      "          21       0.00      0.00      0.00         2\n",
      "          22       0.00      0.00      0.00         3\n",
      "          23       0.00      0.00      0.00         9\n",
      "          24       0.00      0.00      0.00         6\n",
      "          25       0.00      0.00      0.00         7\n",
      "          26       0.00      0.00      0.00         6\n",
      "          27       0.00      0.00      0.00        13\n",
      "          28       0.00      0.00      0.00        10\n",
      "          29       0.00      0.00      0.00        10\n",
      "          30       0.00      0.00      0.00        13\n",
      "          31       0.00      0.00      0.00         7\n",
      "          32       0.00      0.00      0.00        14\n",
      "          33       0.00      0.00      0.00        12\n",
      "          34       0.00      0.00      0.00        14\n",
      "          35       0.00      0.00      0.00         9\n",
      "          36       0.00      0.00      0.00        18\n",
      "          37       0.00      0.00      0.00        12\n",
      "          38       0.00      0.00      0.00         9\n",
      "          39       0.00      0.00      0.00         8\n",
      "          40       0.00      0.00      0.00        13\n",
      "          41       0.00      0.00      0.00        19\n",
      "          42       0.00      0.00      0.00        20\n",
      "          43       0.00      0.00      0.00        16\n",
      "          44       0.00      0.00      0.00        24\n",
      "          45       0.00      0.00      0.00        24\n",
      "          46       0.04      0.14      0.06        22\n",
      "          47       0.00      0.00      0.00        33\n",
      "          48       0.00      0.00      0.00        25\n",
      "          49       0.00      0.00      0.00        28\n",
      "          50       0.05      0.10      0.07        29\n",
      "          51       0.02      0.02      0.02        44\n",
      "          52       0.03      0.12      0.05        34\n",
      "          53       0.02      0.03      0.02        38\n",
      "          54       0.00      0.00      0.00        35\n",
      "          55       0.06      0.09      0.07        34\n",
      "          56       0.02      0.06      0.03        36\n",
      "          57       0.00      0.00      0.00        33\n",
      "          58       0.02      0.06      0.03        32\n",
      "          59       0.00      0.00      0.00        38\n",
      "          60       0.05      0.05      0.05        39\n",
      "          61       0.02      0.15      0.04        39\n",
      "          62       0.00      0.00      0.00        40\n",
      "          63       0.00      0.00      0.00        34\n",
      "          64       0.00      0.00      0.00        35\n",
      "          65       0.00      0.00      0.00        42\n",
      "          66       0.03      0.26      0.06        34\n",
      "          67       0.02      0.03      0.03        37\n",
      "          68       0.02      0.02      0.02        42\n",
      "          69       0.00      0.00      0.00        31\n",
      "          70       0.03      0.03      0.03        36\n",
      "          71       0.05      0.05      0.05        41\n",
      "          72       0.00      0.00      0.00        35\n",
      "          73       0.00      0.00      0.00        24\n",
      "          74       0.00      0.00      0.00        24\n",
      "          75       0.00      0.00      0.00        34\n",
      "          76       0.02      0.04      0.03        23\n",
      "          77       0.00      0.00      0.00        38\n",
      "          78       0.05      0.06      0.06        32\n",
      "          79       0.02      0.07      0.04        41\n",
      "          80       0.11      0.05      0.06        22\n",
      "          81       0.00      0.00      0.00        29\n",
      "          82       0.03      0.03      0.03        31\n",
      "          83       0.00      0.00      0.00        25\n",
      "          84       0.00      0.00      0.00        22\n",
      "          85       0.00      0.00      0.00        27\n",
      "          86       0.00      0.00      0.00        35\n",
      "          87       0.00      0.00      0.00        31\n",
      "          88       0.03      0.03      0.03        33\n",
      "          89       0.11      0.05      0.06        44\n",
      "          90       0.00      0.00      0.00        31\n",
      "          91       0.00      0.00      0.00        40\n",
      "          92       0.08      0.03      0.05        32\n",
      "          93       0.00      0.00      0.00        30\n",
      "          94       0.05      0.07      0.06        30\n",
      "          95       0.02      0.04      0.03        24\n",
      "          96       0.05      0.03      0.04        33\n",
      "          97       0.03      0.03      0.03        34\n",
      "          98       0.00      0.00      0.00        35\n",
      "          99       0.00      0.00      0.00        41\n",
      "         100       0.00      0.00      0.00        24\n",
      "         101       0.07      0.07      0.07        41\n",
      "         102       0.01      0.04      0.02        24\n",
      "         103       0.00      0.00      0.00        32\n",
      "         104       0.01      0.03      0.02        29\n",
      "         105       0.00      0.00      0.00        27\n",
      "         106       0.00      0.00      0.00        29\n",
      "         107       0.00      0.00      0.00        37\n",
      "         108       0.00      0.00      0.00        31\n",
      "         109       0.01      0.04      0.02        27\n",
      "         110       0.00      0.00      0.00        24\n",
      "         111       0.00      0.00      0.00        28\n",
      "         112       0.03      0.30      0.05        37\n",
      "         113       0.01      0.03      0.01        33\n",
      "         114       0.00      0.00      0.00        31\n",
      "         115       0.04      0.07      0.05        29\n",
      "         116       0.02      0.04      0.02        28\n",
      "         117       0.00      0.00      0.00        34\n",
      "         118       0.00      0.00      0.00        28\n",
      "         119       0.03      0.07      0.04        29\n",
      "         120       0.00      0.00      0.00        29\n",
      "         121       0.03      0.04      0.03        28\n",
      "         122       0.00      0.00      0.00        27\n",
      "         123       0.00      0.00      0.00        30\n",
      "         124       0.00      0.00      0.00        19\n",
      "         125       0.00      0.00      0.00        24\n",
      "         126       0.00      0.00      0.00        17\n",
      "         127       0.00      0.00      0.00        22\n",
      "         128       0.00      0.00      0.00        17\n",
      "         129       0.00      0.00      0.00        25\n",
      "         130       0.00      0.00      0.00        17\n",
      "         131       0.00      0.00      0.00        21\n",
      "         132       0.00      0.00      0.00        22\n",
      "         133       0.00      0.00      0.00        22\n",
      "         134       0.02      0.06      0.03        18\n",
      "         135       0.04      0.12      0.06        24\n",
      "         136       0.04      0.11      0.06        18\n",
      "         137       0.00      0.00      0.00        19\n",
      "         138       0.00      0.00      0.00        16\n",
      "         139       0.00      0.00      0.00        18\n",
      "         140       0.33      0.07      0.11        15\n",
      "         141       0.22      0.18      0.20        11\n",
      "         142       0.00      0.00      0.00        13\n",
      "         143       0.00      0.00      0.00        20\n",
      "         144       0.00      0.00      0.00        14\n",
      "         145       0.00      0.00      0.00        17\n",
      "         146       0.00      0.00      0.00        13\n",
      "         147       0.00      0.00      0.00        12\n",
      "         148       0.00      0.00      0.00         9\n",
      "         149       0.00      0.00      0.00        11\n",
      "         150       0.00      0.00      0.00        11\n",
      "         151       0.00      0.00      0.00         8\n",
      "         152       0.00      0.00      0.00        13\n",
      "         153       0.00      0.00      0.00        10\n",
      "         154       0.00      0.00      0.00        13\n",
      "         155       0.00      0.00      0.00        10\n",
      "         156       0.00      0.00      0.00         5\n",
      "         157       0.00      0.00      0.00         9\n",
      "         158       0.00      0.00      0.00         5\n",
      "         159       0.00      0.00      0.00        11\n",
      "         160       0.00      0.00      0.00         5\n",
      "         161       0.00      0.00      0.00         6\n",
      "         162       0.00      0.00      0.00         8\n",
      "         163       0.00      0.00      0.00         3\n",
      "         164       0.00      0.00      0.00         8\n",
      "         165       0.00      0.00      0.00         5\n",
      "         166       0.00      0.00      0.00         6\n",
      "         167       0.00      0.00      0.00         3\n",
      "         168       0.00      0.00      0.00         8\n",
      "         169       0.00      0.00      0.00         7\n",
      "         170       0.00      0.00      0.00         6\n",
      "         171       0.00      0.00      0.00         8\n",
      "         172       0.00      0.00      0.00         3\n",
      "         173       0.00      0.00      0.00         7\n",
      "         174       0.00      0.00      0.00         3\n",
      "         175       0.00      0.00      0.00         8\n",
      "         176       0.00      0.00      0.00         6\n",
      "         177       0.00      0.00      0.00         5\n",
      "         178       0.00      0.00      0.00         5\n",
      "         180       0.00      0.00      0.00         4\n",
      "         181       0.00      0.00      0.00         2\n",
      "         182       0.00      0.00      0.00         3\n",
      "         183       0.00      0.00      0.00         2\n",
      "         184       0.00      0.00      0.00         5\n",
      "         185       0.00      0.00      0.00         7\n",
      "         186       0.00      0.00      0.00         5\n",
      "         187       0.00      0.00      0.00         2\n",
      "         188       0.00      0.00      0.00         1\n",
      "         189       0.00      0.00      0.00         5\n",
      "         190       0.00      0.00      0.00         1\n",
      "         191       0.00      0.00      0.00         1\n",
      "         192       0.00      0.00      0.00         1\n",
      "         193       0.00      0.00      0.00         4\n",
      "         194       0.00      0.00      0.00         1\n",
      "         195       0.00      0.00      0.00         2\n",
      "         197       0.00      0.00      0.00         3\n",
      "         198       0.00      0.00      0.00         1\n",
      "         199       0.00      0.00      0.00         2\n",
      "         200       0.00      0.00      0.00         1\n",
      "         201       0.00      0.00      0.00         1\n",
      "         204       0.00      0.00      0.00         1\n",
      "         208       0.00      0.00      0.00         3\n",
      "         210       0.00      0.00      0.00         3\n",
      "         211       0.00      0.00      0.00         2\n",
      "         212       0.00      0.00      0.00         3\n",
      "         213       0.00      0.00      0.00         1\n",
      "         214       0.00      0.00      0.00         1\n",
      "\n",
      "    accuracy                           0.03      3567\n",
      "   macro avg       0.01      0.01      0.01      3567\n",
      "weighted avg       0.02      0.03      0.02      3567\n",
      "\n"
     ]
    }
   ],
   "source": [
    "svc=SVC()\n",
    "svc.fit(x_train,y_train)\n",
    "svc.score(x_train,y_train)\n",
    "predsvc=svc.predict(x_test)\n",
    "print(accuracy_score(y_test,predsvc))\n",
    "print(confusion_matrix(y_test,predsvc))\n",
    "print(classification_report(y_test,predsvc))"
   ]
  },
  {
   "cell_type": "code",
   "execution_count": 91,
   "id": "9b1bb38c",
   "metadata": {},
   "outputs": [
    {
     "name": "stdout",
     "output_type": "stream",
     "text": [
      "0.024109896271376507\n",
      "[[0 0 0 ... 0 0 0]\n",
      " [0 0 0 ... 0 0 0]\n",
      " [0 0 0 ... 0 0 0]\n",
      " ...\n",
      " [0 0 0 ... 0 0 0]\n",
      " [0 0 0 ... 0 0 0]\n",
      " [0 0 0 ... 0 0 0]]\n",
      "              precision    recall  f1-score   support\n",
      "\n",
      "           1       0.00      0.00      0.00         1\n",
      "           4       0.00      0.00      0.00         1\n",
      "           5       0.00      0.00      0.00         1\n",
      "           7       0.00      0.00      0.00         1\n",
      "           9       0.00      0.00      0.00         2\n",
      "          10       0.00      0.00      0.00         1\n",
      "          11       0.00      0.00      0.00         3\n",
      "          12       0.00      0.00      0.00         2\n",
      "          13       0.00      0.00      0.00         1\n",
      "          14       0.00      0.00      0.00         2\n",
      "          15       0.00      0.00      0.00         3\n",
      "          16       0.00      0.00      0.00         3\n",
      "          17       0.00      0.00      0.00         2\n",
      "          18       0.00      0.00      0.00         5\n",
      "          19       0.00      0.00      0.00         4\n",
      "          20       0.00      0.00      0.00         3\n",
      "          21       0.00      0.00      0.00         2\n",
      "          22       0.00      0.00      0.00         3\n",
      "          23       0.00      0.00      0.00         9\n",
      "          24       0.00      0.00      0.00         6\n",
      "          25       0.00      0.00      0.00         7\n",
      "          26       0.00      0.00      0.00         6\n",
      "          27       0.00      0.00      0.00        13\n",
      "          28       0.00      0.00      0.00        10\n",
      "          29       0.00      0.00      0.00        10\n",
      "          30       0.00      0.00      0.00        13\n",
      "          31       0.00      0.00      0.00         7\n",
      "          32       0.00      0.00      0.00        14\n",
      "          33       0.00      0.00      0.00        12\n",
      "          34       0.00      0.00      0.00        14\n",
      "          35       0.00      0.00      0.00         9\n",
      "          36       0.00      0.00      0.00        18\n",
      "          37       0.25      0.08      0.12        12\n",
      "          38       0.00      0.00      0.00         9\n",
      "          39       0.02      0.12      0.04         8\n",
      "          40       0.00      0.00      0.00        13\n",
      "          41       0.00      0.00      0.00        19\n",
      "          42       0.00      0.00      0.00        20\n",
      "          43       0.00      0.00      0.00        16\n",
      "          44       0.00      0.00      0.00        24\n",
      "          45       0.00      0.00      0.00        24\n",
      "          46       0.05      0.05      0.05        22\n",
      "          47       0.06      0.03      0.04        33\n",
      "          48       0.00      0.00      0.00        25\n",
      "          49       0.00      0.00      0.00        28\n",
      "          50       0.07      0.03      0.05        29\n",
      "          51       0.00      0.00      0.00        44\n",
      "          52       0.03      0.12      0.04        34\n",
      "          53       0.10      0.03      0.04        38\n",
      "          54       0.00      0.00      0.00        35\n",
      "          55       0.00      0.00      0.00        34\n",
      "          56       0.04      0.08      0.05        36\n",
      "          57       0.00      0.00      0.00        33\n",
      "          58       0.00      0.00      0.00        32\n",
      "          59       0.00      0.00      0.00        38\n",
      "          60       0.00      0.00      0.00        39\n",
      "          61       0.02      0.15      0.04        39\n",
      "          62       0.00      0.00      0.00        40\n",
      "          63       0.08      0.03      0.04        34\n",
      "          64       0.00      0.00      0.00        35\n",
      "          65       0.00      0.00      0.00        42\n",
      "          66       0.04      0.24      0.06        34\n",
      "          67       0.05      0.03      0.04        37\n",
      "          68       0.02      0.05      0.03        42\n",
      "          69       0.00      0.00      0.00        31\n",
      "          70       0.04      0.03      0.03        36\n",
      "          71       0.02      0.20      0.04        41\n",
      "          72       0.00      0.00      0.00        35\n",
      "          73       0.00      0.00      0.00        24\n",
      "          74       0.00      0.00      0.00        24\n",
      "          75       0.00      0.00      0.00        34\n",
      "          76       0.02      0.30      0.03        23\n",
      "          77       0.00      0.00      0.00        38\n",
      "          78       0.00      0.00      0.00        32\n",
      "          79       0.03      0.02      0.03        41\n",
      "          80       0.00      0.00      0.00        22\n",
      "          81       0.00      0.00      0.00        29\n",
      "          82       0.00      0.00      0.00        31\n",
      "          83       0.00      0.00      0.00        25\n",
      "          84       0.00      0.00      0.00        22\n",
      "          85       0.00      0.00      0.00        27\n",
      "          86       0.00      0.00      0.00        35\n",
      "          87       0.00      0.00      0.00        31\n",
      "          88       0.00      0.00      0.00        33\n",
      "          89       0.06      0.02      0.03        44\n",
      "          90       0.00      0.00      0.00        31\n",
      "          91       0.00      0.00      0.00        40\n",
      "          92       0.00      0.00      0.00        32\n",
      "          93       0.00      0.03      0.01        30\n",
      "          94       0.03      0.03      0.03        30\n",
      "          95       0.00      0.00      0.00        24\n",
      "          96       0.03      0.09      0.05        33\n",
      "          97       0.04      0.06      0.05        34\n",
      "          98       0.00      0.00      0.00        35\n",
      "          99       0.00      0.00      0.00        41\n",
      "         100       0.00      0.00      0.00        24\n",
      "         101       0.06      0.10      0.07        41\n",
      "         102       0.00      0.04      0.01        24\n",
      "         103       0.00      0.00      0.00        32\n",
      "         104       0.00      0.00      0.00        29\n",
      "         105       0.00      0.00      0.00        27\n",
      "         106       0.00      0.00      0.00        29\n",
      "         107       0.13      0.08      0.10        37\n",
      "         108       0.03      0.03      0.03        31\n",
      "         109       0.00      0.00      0.00        27\n",
      "         110       0.00      0.00      0.00        24\n",
      "         111       0.00      0.00      0.00        28\n",
      "         112       0.03      0.24      0.06        37\n",
      "         113       0.02      0.03      0.02        33\n",
      "         114       0.00      0.00      0.00        31\n",
      "         115       0.04      0.03      0.04        29\n",
      "         116       0.00      0.00      0.00        28\n",
      "         117       0.00      0.00      0.00        34\n",
      "         118       0.00      0.00      0.00        28\n",
      "         119       0.00      0.00      0.00        29\n",
      "         120       0.00      0.00      0.00        29\n",
      "         121       0.00      0.00      0.00        28\n",
      "         122       0.00      0.00      0.00        27\n",
      "         123       0.00      0.00      0.00        30\n",
      "         124       0.00      0.00      0.00        19\n",
      "         125       0.00      0.00      0.00        24\n",
      "         126       0.00      0.00      0.00        17\n",
      "         127       0.00      0.00      0.00        22\n",
      "         128       0.00      0.00      0.00        17\n",
      "         129       0.00      0.00      0.00        25\n",
      "         130       0.00      0.00      0.00        17\n",
      "         131       0.00      0.00      0.00        21\n",
      "         132       0.05      0.09      0.06        22\n",
      "         133       0.00      0.00      0.00        22\n",
      "         134       0.11      0.06      0.07        18\n",
      "         135       0.08      0.12      0.10        24\n",
      "         136       0.00      0.00      0.00        18\n",
      "         137       0.00      0.00      0.00        19\n",
      "         138       0.08      0.12      0.10        16\n",
      "         139       0.00      0.00      0.00        18\n",
      "         140       0.00      0.00      0.00        15\n",
      "         141       0.00      0.00      0.00        11\n",
      "         142       0.00      0.00      0.00        13\n",
      "         143       0.18      0.10      0.13        20\n",
      "         144       0.00      0.00      0.00        14\n",
      "         145       0.00      0.00      0.00        17\n",
      "         146       0.00      0.00      0.00        13\n",
      "         147       0.00      0.00      0.00        12\n",
      "         148       0.00      0.00      0.00         9\n",
      "         149       0.00      0.00      0.00        11\n",
      "         150       0.00      0.00      0.00        11\n",
      "         151       0.00      0.00      0.00         8\n",
      "         152       0.00      0.00      0.00        13\n",
      "         153       0.00      0.00      0.00        10\n",
      "         154       0.00      0.00      0.00        13\n",
      "         155       0.00      0.00      0.00        10\n",
      "         156       0.00      0.00      0.00         5\n",
      "         157       0.00      0.00      0.00         9\n",
      "         158       0.00      0.00      0.00         5\n",
      "         159       0.00      0.00      0.00        11\n",
      "         160       0.00      0.00      0.00         5\n",
      "         161       0.00      0.00      0.00         6\n",
      "         162       0.00      0.00      0.00         8\n",
      "         163       0.00      0.00      0.00         3\n",
      "         164       0.00      0.00      0.00         8\n",
      "         165       0.00      0.00      0.00         5\n",
      "         166       0.00      0.00      0.00         6\n",
      "         167       0.00      0.00      0.00         3\n",
      "         168       0.00      0.00      0.00         8\n",
      "         169       0.00      0.00      0.00         7\n",
      "         170       0.00      0.00      0.00         6\n",
      "         171       0.00      0.00      0.00         8\n",
      "         172       0.00      0.00      0.00         3\n",
      "         173       0.00      0.00      0.00         7\n",
      "         174       0.00      0.00      0.00         3\n",
      "         175       0.00      0.00      0.00         8\n",
      "         176       0.00      0.00      0.00         6\n",
      "         177       0.00      0.00      0.00         5\n",
      "         178       0.00      0.00      0.00         5\n",
      "         180       0.00      0.00      0.00         4\n",
      "         181       0.00      0.00      0.00         2\n",
      "         182       0.00      0.00      0.00         3\n",
      "         183       0.00      0.00      0.00         2\n",
      "         184       0.00      0.00      0.00         5\n",
      "         185       0.00      0.00      0.00         7\n",
      "         186       0.00      0.00      0.00         5\n",
      "         187       0.00      0.00      0.00         2\n",
      "         188       0.00      0.00      0.00         1\n",
      "         189       0.00      0.00      0.00         5\n",
      "         190       0.00      0.00      0.00         1\n",
      "         191       0.00      0.00      0.00         1\n",
      "         192       0.00      0.00      0.00         1\n",
      "         193       0.00      0.00      0.00         4\n",
      "         194       0.00      0.00      0.00         1\n",
      "         195       0.00      0.00      0.00         2\n",
      "         197       0.00      0.00      0.00         3\n",
      "         198       0.00      0.00      0.00         1\n",
      "         199       0.00      0.00      0.00         2\n",
      "         200       0.00      0.00      0.00         1\n",
      "         201       0.00      0.00      0.00         1\n",
      "         204       0.00      0.00      0.00         1\n",
      "         208       0.00      0.00      0.00         3\n",
      "         210       0.00      0.00      0.00         3\n",
      "         211       0.00      0.00      0.00         2\n",
      "         212       0.00      0.00      0.00         3\n",
      "         213       0.00      0.00      0.00         1\n",
      "         214       0.00      0.00      0.00         1\n",
      "\n",
      "    accuracy                           0.02      3567\n",
      "   macro avg       0.01      0.01      0.01      3567\n",
      "weighted avg       0.01      0.02      0.01      3567\n",
      "\n"
     ]
    }
   ],
   "source": [
    "svc=SVC(kernel='poly')\n",
    "svc.fit(x_train,y_train)\n",
    "svc.score(x_train,y_train)\n",
    "predsvc=svc.predict(x_test)\n",
    "print(accuracy_score(y_test,predsvc))\n",
    "print(confusion_matrix(y_test,predsvc))\n",
    "print(classification_report(y_test,predsvc))"
   ]
  },
  {
   "cell_type": "code",
   "execution_count": 92,
   "id": "0416d4ca",
   "metadata": {},
   "outputs": [
    {
     "name": "stdout",
     "output_type": "stream",
     "text": [
      "0.025511634426689096\n",
      "[[0 0 0 ... 0 0 0]\n",
      " [0 0 0 ... 0 0 0]\n",
      " [0 0 0 ... 0 0 0]\n",
      " ...\n",
      " [0 0 0 ... 0 0 0]\n",
      " [0 0 0 ... 0 0 0]\n",
      " [0 0 0 ... 0 0 0]]\n",
      "              precision    recall  f1-score   support\n",
      "\n",
      "           1       0.00      0.00      0.00         1\n",
      "           4       0.00      0.00      0.00         1\n",
      "           5       0.00      0.00      0.00         1\n",
      "           7       0.00      0.00      0.00         1\n",
      "           9       0.00      0.00      0.00         2\n",
      "          10       0.00      0.00      0.00         1\n",
      "          11       0.00      0.00      0.00         3\n",
      "          12       0.00      0.00      0.00         2\n",
      "          13       0.00      0.00      0.00         1\n",
      "          14       0.00      0.00      0.00         2\n",
      "          15       0.00      0.00      0.00         3\n",
      "          16       0.00      0.00      0.00         3\n",
      "          17       0.00      0.00      0.00         2\n",
      "          18       0.00      0.00      0.00         5\n",
      "          19       0.00      0.00      0.00         4\n",
      "          20       0.00      0.00      0.00         3\n",
      "          21       0.00      0.00      0.00         2\n",
      "          22       0.00      0.00      0.00         3\n",
      "          23       0.00      0.00      0.00         9\n",
      "          24       0.00      0.00      0.00         6\n",
      "          25       0.00      0.00      0.00         7\n",
      "          26       0.00      0.00      0.00         6\n",
      "          27       0.00      0.00      0.00        13\n",
      "          28       0.00      0.00      0.00        10\n",
      "          29       0.00      0.00      0.00        10\n",
      "          30       0.00      0.00      0.00        13\n",
      "          31       0.00      0.00      0.00         7\n",
      "          32       0.00      0.00      0.00        14\n",
      "          33       0.00      0.00      0.00        12\n",
      "          34       0.00      0.00      0.00        14\n",
      "          35       0.00      0.00      0.00         9\n",
      "          36       0.00      0.00      0.00        18\n",
      "          37       0.00      0.00      0.00        12\n",
      "          38       0.00      0.00      0.00         9\n",
      "          39       0.00      0.00      0.00         8\n",
      "          40       0.00      0.00      0.00        13\n",
      "          41       0.00      0.00      0.00        19\n",
      "          42       0.00      0.00      0.00        20\n",
      "          43       0.00      0.00      0.00        16\n",
      "          44       0.00      0.00      0.00        24\n",
      "          45       0.00      0.00      0.00        24\n",
      "          46       0.04      0.14      0.06        22\n",
      "          47       0.00      0.00      0.00        33\n",
      "          48       0.00      0.00      0.00        25\n",
      "          49       0.00      0.00      0.00        28\n",
      "          50       0.05      0.10      0.07        29\n",
      "          51       0.02      0.02      0.02        44\n",
      "          52       0.03      0.12      0.05        34\n",
      "          53       0.02      0.03      0.02        38\n",
      "          54       0.00      0.00      0.00        35\n",
      "          55       0.06      0.09      0.07        34\n",
      "          56       0.02      0.06      0.03        36\n",
      "          57       0.00      0.00      0.00        33\n",
      "          58       0.02      0.06      0.03        32\n",
      "          59       0.00      0.00      0.00        38\n",
      "          60       0.05      0.05      0.05        39\n",
      "          61       0.02      0.15      0.04        39\n",
      "          62       0.00      0.00      0.00        40\n",
      "          63       0.00      0.00      0.00        34\n",
      "          64       0.00      0.00      0.00        35\n",
      "          65       0.00      0.00      0.00        42\n",
      "          66       0.03      0.26      0.06        34\n",
      "          67       0.02      0.03      0.03        37\n",
      "          68       0.02      0.02      0.02        42\n",
      "          69       0.00      0.00      0.00        31\n",
      "          70       0.03      0.03      0.03        36\n",
      "          71       0.05      0.05      0.05        41\n",
      "          72       0.00      0.00      0.00        35\n",
      "          73       0.00      0.00      0.00        24\n",
      "          74       0.00      0.00      0.00        24\n",
      "          75       0.00      0.00      0.00        34\n",
      "          76       0.02      0.04      0.03        23\n",
      "          77       0.00      0.00      0.00        38\n",
      "          78       0.05      0.06      0.06        32\n",
      "          79       0.02      0.07      0.04        41\n",
      "          80       0.11      0.05      0.06        22\n",
      "          81       0.00      0.00      0.00        29\n",
      "          82       0.03      0.03      0.03        31\n",
      "          83       0.00      0.00      0.00        25\n",
      "          84       0.00      0.00      0.00        22\n",
      "          85       0.00      0.00      0.00        27\n",
      "          86       0.00      0.00      0.00        35\n",
      "          87       0.00      0.00      0.00        31\n",
      "          88       0.03      0.03      0.03        33\n",
      "          89       0.11      0.05      0.06        44\n",
      "          90       0.00      0.00      0.00        31\n",
      "          91       0.00      0.00      0.00        40\n",
      "          92       0.08      0.03      0.05        32\n",
      "          93       0.00      0.00      0.00        30\n",
      "          94       0.05      0.07      0.06        30\n",
      "          95       0.02      0.04      0.03        24\n",
      "          96       0.05      0.03      0.04        33\n",
      "          97       0.03      0.03      0.03        34\n",
      "          98       0.00      0.00      0.00        35\n",
      "          99       0.00      0.00      0.00        41\n",
      "         100       0.00      0.00      0.00        24\n",
      "         101       0.07      0.07      0.07        41\n",
      "         102       0.01      0.04      0.02        24\n",
      "         103       0.00      0.00      0.00        32\n",
      "         104       0.01      0.03      0.02        29\n",
      "         105       0.00      0.00      0.00        27\n",
      "         106       0.00      0.00      0.00        29\n",
      "         107       0.00      0.00      0.00        37\n",
      "         108       0.00      0.00      0.00        31\n",
      "         109       0.01      0.04      0.02        27\n",
      "         110       0.00      0.00      0.00        24\n",
      "         111       0.00      0.00      0.00        28\n",
      "         112       0.03      0.30      0.05        37\n",
      "         113       0.01      0.03      0.01        33\n",
      "         114       0.00      0.00      0.00        31\n",
      "         115       0.04      0.07      0.05        29\n",
      "         116       0.02      0.04      0.02        28\n",
      "         117       0.00      0.00      0.00        34\n",
      "         118       0.00      0.00      0.00        28\n",
      "         119       0.03      0.07      0.04        29\n",
      "         120       0.00      0.00      0.00        29\n",
      "         121       0.03      0.04      0.03        28\n",
      "         122       0.00      0.00      0.00        27\n",
      "         123       0.00      0.00      0.00        30\n",
      "         124       0.00      0.00      0.00        19\n",
      "         125       0.00      0.00      0.00        24\n",
      "         126       0.00      0.00      0.00        17\n",
      "         127       0.00      0.00      0.00        22\n",
      "         128       0.00      0.00      0.00        17\n",
      "         129       0.00      0.00      0.00        25\n",
      "         130       0.00      0.00      0.00        17\n",
      "         131       0.00      0.00      0.00        21\n",
      "         132       0.00      0.00      0.00        22\n",
      "         133       0.00      0.00      0.00        22\n",
      "         134       0.02      0.06      0.03        18\n",
      "         135       0.04      0.12      0.06        24\n",
      "         136       0.04      0.11      0.06        18\n",
      "         137       0.00      0.00      0.00        19\n",
      "         138       0.00      0.00      0.00        16\n",
      "         139       0.00      0.00      0.00        18\n",
      "         140       0.33      0.07      0.11        15\n",
      "         141       0.22      0.18      0.20        11\n",
      "         142       0.00      0.00      0.00        13\n",
      "         143       0.00      0.00      0.00        20\n",
      "         144       0.00      0.00      0.00        14\n",
      "         145       0.00      0.00      0.00        17\n",
      "         146       0.00      0.00      0.00        13\n",
      "         147       0.00      0.00      0.00        12\n",
      "         148       0.00      0.00      0.00         9\n",
      "         149       0.00      0.00      0.00        11\n",
      "         150       0.00      0.00      0.00        11\n",
      "         151       0.00      0.00      0.00         8\n",
      "         152       0.00      0.00      0.00        13\n",
      "         153       0.00      0.00      0.00        10\n",
      "         154       0.00      0.00      0.00        13\n",
      "         155       0.00      0.00      0.00        10\n",
      "         156       0.00      0.00      0.00         5\n",
      "         157       0.00      0.00      0.00         9\n",
      "         158       0.00      0.00      0.00         5\n",
      "         159       0.00      0.00      0.00        11\n",
      "         160       0.00      0.00      0.00         5\n",
      "         161       0.00      0.00      0.00         6\n",
      "         162       0.00      0.00      0.00         8\n",
      "         163       0.00      0.00      0.00         3\n",
      "         164       0.00      0.00      0.00         8\n",
      "         165       0.00      0.00      0.00         5\n",
      "         166       0.00      0.00      0.00         6\n",
      "         167       0.00      0.00      0.00         3\n",
      "         168       0.00      0.00      0.00         8\n",
      "         169       0.00      0.00      0.00         7\n",
      "         170       0.00      0.00      0.00         6\n",
      "         171       0.00      0.00      0.00         8\n",
      "         172       0.00      0.00      0.00         3\n",
      "         173       0.00      0.00      0.00         7\n",
      "         174       0.00      0.00      0.00         3\n",
      "         175       0.00      0.00      0.00         8\n",
      "         176       0.00      0.00      0.00         6\n",
      "         177       0.00      0.00      0.00         5\n",
      "         178       0.00      0.00      0.00         5\n",
      "         180       0.00      0.00      0.00         4\n",
      "         181       0.00      0.00      0.00         2\n",
      "         182       0.00      0.00      0.00         3\n",
      "         183       0.00      0.00      0.00         2\n",
      "         184       0.00      0.00      0.00         5\n",
      "         185       0.00      0.00      0.00         7\n",
      "         186       0.00      0.00      0.00         5\n",
      "         187       0.00      0.00      0.00         2\n",
      "         188       0.00      0.00      0.00         1\n",
      "         189       0.00      0.00      0.00         5\n",
      "         190       0.00      0.00      0.00         1\n",
      "         191       0.00      0.00      0.00         1\n",
      "         192       0.00      0.00      0.00         1\n",
      "         193       0.00      0.00      0.00         4\n",
      "         194       0.00      0.00      0.00         1\n",
      "         195       0.00      0.00      0.00         2\n",
      "         197       0.00      0.00      0.00         3\n",
      "         198       0.00      0.00      0.00         1\n",
      "         199       0.00      0.00      0.00         2\n",
      "         200       0.00      0.00      0.00         1\n",
      "         201       0.00      0.00      0.00         1\n",
      "         204       0.00      0.00      0.00         1\n",
      "         208       0.00      0.00      0.00         3\n",
      "         210       0.00      0.00      0.00         3\n",
      "         211       0.00      0.00      0.00         2\n",
      "         212       0.00      0.00      0.00         3\n",
      "         213       0.00      0.00      0.00         1\n",
      "         214       0.00      0.00      0.00         1\n",
      "\n",
      "    accuracy                           0.03      3567\n",
      "   macro avg       0.01      0.01      0.01      3567\n",
      "weighted avg       0.02      0.03      0.02      3567\n",
      "\n"
     ]
    }
   ],
   "source": [
    "svc=SVC(kernel='rbf')\n",
    "svc.fit(x_train,y_train)\n",
    "svc.score(x_train,y_train)\n",
    "predsvc=svc.predict(x_test)\n",
    "print(accuracy_score(y_test,predsvc))\n",
    "print(confusion_matrix(y_test,predsvc))\n",
    "print(classification_report(y_test,predsvc))"
   ]
  },
  {
   "cell_type": "code",
   "execution_count": 93,
   "id": "a91c5bd5",
   "metadata": {},
   "outputs": [
    {
     "name": "stdout",
     "output_type": "stream",
     "text": [
      "0.024109896271376507\n",
      "[[0 0 0 ... 0 0 0]\n",
      " [0 0 0 ... 0 0 0]\n",
      " [0 0 0 ... 0 0 0]\n",
      " ...\n",
      " [0 0 0 ... 0 0 0]\n",
      " [0 0 0 ... 0 0 0]\n",
      " [0 0 0 ... 0 0 0]]\n",
      "              precision    recall  f1-score   support\n",
      "\n",
      "           1       0.00      0.00      0.00         1\n",
      "           4       0.00      0.00      0.00         1\n",
      "           5       0.00      0.00      0.00         1\n",
      "           7       0.00      0.00      0.00         1\n",
      "           9       0.00      0.00      0.00         2\n",
      "          10       0.00      0.00      0.00         1\n",
      "          11       0.00      0.00      0.00         3\n",
      "          12       0.00      0.00      0.00         2\n",
      "          13       0.00      0.00      0.00         1\n",
      "          14       0.00      0.00      0.00         2\n",
      "          15       0.00      0.00      0.00         3\n",
      "          16       0.00      0.00      0.00         3\n",
      "          17       0.00      0.00      0.00         2\n",
      "          18       0.00      0.00      0.00         5\n",
      "          19       0.00      0.00      0.00         4\n",
      "          20       0.00      0.00      0.00         3\n",
      "          21       0.00      0.00      0.00         2\n",
      "          22       0.00      0.00      0.00         3\n",
      "          23       0.00      0.00      0.00         9\n",
      "          24       0.00      0.00      0.00         6\n",
      "          25       0.00      0.00      0.00         7\n",
      "          26       0.00      0.00      0.00         6\n",
      "          27       0.00      0.00      0.00        13\n",
      "          28       0.00      0.00      0.00        10\n",
      "          29       0.00      0.00      0.00        10\n",
      "          30       0.00      0.00      0.00        13\n",
      "          31       0.00      0.00      0.00         7\n",
      "          32       0.00      0.00      0.00        14\n",
      "          33       0.00      0.00      0.00        12\n",
      "          34       0.00      0.00      0.00        14\n",
      "          35       0.00      0.00      0.00         9\n",
      "          36       0.00      0.00      0.00        18\n",
      "          37       0.25      0.08      0.12        12\n",
      "          38       0.00      0.00      0.00         9\n",
      "          39       0.02      0.12      0.04         8\n",
      "          40       0.00      0.00      0.00        13\n",
      "          41       0.00      0.00      0.00        19\n",
      "          42       0.00      0.00      0.00        20\n",
      "          43       0.00      0.00      0.00        16\n",
      "          44       0.00      0.00      0.00        24\n",
      "          45       0.00      0.00      0.00        24\n",
      "          46       0.05      0.05      0.05        22\n",
      "          47       0.06      0.03      0.04        33\n",
      "          48       0.00      0.00      0.00        25\n",
      "          49       0.00      0.00      0.00        28\n",
      "          50       0.07      0.03      0.05        29\n",
      "          51       0.00      0.00      0.00        44\n",
      "          52       0.03      0.12      0.04        34\n",
      "          53       0.10      0.03      0.04        38\n",
      "          54       0.00      0.00      0.00        35\n",
      "          55       0.00      0.00      0.00        34\n",
      "          56       0.04      0.08      0.05        36\n",
      "          57       0.00      0.00      0.00        33\n",
      "          58       0.00      0.00      0.00        32\n",
      "          59       0.00      0.00      0.00        38\n",
      "          60       0.00      0.00      0.00        39\n",
      "          61       0.02      0.15      0.04        39\n",
      "          62       0.00      0.00      0.00        40\n",
      "          63       0.08      0.03      0.04        34\n",
      "          64       0.00      0.00      0.00        35\n",
      "          65       0.00      0.00      0.00        42\n",
      "          66       0.04      0.24      0.06        34\n",
      "          67       0.05      0.03      0.04        37\n",
      "          68       0.02      0.05      0.03        42\n",
      "          69       0.00      0.00      0.00        31\n",
      "          70       0.04      0.03      0.03        36\n",
      "          71       0.02      0.20      0.04        41\n",
      "          72       0.00      0.00      0.00        35\n",
      "          73       0.00      0.00      0.00        24\n",
      "          74       0.00      0.00      0.00        24\n",
      "          75       0.00      0.00      0.00        34\n",
      "          76       0.02      0.30      0.03        23\n",
      "          77       0.00      0.00      0.00        38\n",
      "          78       0.00      0.00      0.00        32\n",
      "          79       0.03      0.02      0.03        41\n",
      "          80       0.00      0.00      0.00        22\n",
      "          81       0.00      0.00      0.00        29\n",
      "          82       0.00      0.00      0.00        31\n",
      "          83       0.00      0.00      0.00        25\n",
      "          84       0.00      0.00      0.00        22\n",
      "          85       0.00      0.00      0.00        27\n",
      "          86       0.00      0.00      0.00        35\n",
      "          87       0.00      0.00      0.00        31\n",
      "          88       0.00      0.00      0.00        33\n",
      "          89       0.06      0.02      0.03        44\n",
      "          90       0.00      0.00      0.00        31\n",
      "          91       0.00      0.00      0.00        40\n",
      "          92       0.00      0.00      0.00        32\n",
      "          93       0.00      0.03      0.01        30\n",
      "          94       0.03      0.03      0.03        30\n",
      "          95       0.00      0.00      0.00        24\n",
      "          96       0.03      0.09      0.05        33\n",
      "          97       0.04      0.06      0.05        34\n",
      "          98       0.00      0.00      0.00        35\n",
      "          99       0.00      0.00      0.00        41\n",
      "         100       0.00      0.00      0.00        24\n",
      "         101       0.06      0.10      0.07        41\n",
      "         102       0.00      0.04      0.01        24\n",
      "         103       0.00      0.00      0.00        32\n",
      "         104       0.00      0.00      0.00        29\n",
      "         105       0.00      0.00      0.00        27\n",
      "         106       0.00      0.00      0.00        29\n",
      "         107       0.13      0.08      0.10        37\n",
      "         108       0.03      0.03      0.03        31\n",
      "         109       0.00      0.00      0.00        27\n",
      "         110       0.00      0.00      0.00        24\n",
      "         111       0.00      0.00      0.00        28\n",
      "         112       0.03      0.24      0.06        37\n",
      "         113       0.02      0.03      0.02        33\n",
      "         114       0.00      0.00      0.00        31\n",
      "         115       0.04      0.03      0.04        29\n",
      "         116       0.00      0.00      0.00        28\n",
      "         117       0.00      0.00      0.00        34\n",
      "         118       0.00      0.00      0.00        28\n",
      "         119       0.00      0.00      0.00        29\n",
      "         120       0.00      0.00      0.00        29\n",
      "         121       0.00      0.00      0.00        28\n",
      "         122       0.00      0.00      0.00        27\n",
      "         123       0.00      0.00      0.00        30\n",
      "         124       0.00      0.00      0.00        19\n",
      "         125       0.00      0.00      0.00        24\n",
      "         126       0.00      0.00      0.00        17\n",
      "         127       0.00      0.00      0.00        22\n",
      "         128       0.00      0.00      0.00        17\n",
      "         129       0.00      0.00      0.00        25\n",
      "         130       0.00      0.00      0.00        17\n",
      "         131       0.00      0.00      0.00        21\n",
      "         132       0.05      0.09      0.06        22\n",
      "         133       0.00      0.00      0.00        22\n",
      "         134       0.11      0.06      0.07        18\n",
      "         135       0.08      0.12      0.10        24\n",
      "         136       0.00      0.00      0.00        18\n",
      "         137       0.00      0.00      0.00        19\n",
      "         138       0.08      0.12      0.10        16\n",
      "         139       0.00      0.00      0.00        18\n",
      "         140       0.00      0.00      0.00        15\n",
      "         141       0.00      0.00      0.00        11\n",
      "         142       0.00      0.00      0.00        13\n",
      "         143       0.18      0.10      0.13        20\n",
      "         144       0.00      0.00      0.00        14\n",
      "         145       0.00      0.00      0.00        17\n",
      "         146       0.00      0.00      0.00        13\n",
      "         147       0.00      0.00      0.00        12\n",
      "         148       0.00      0.00      0.00         9\n",
      "         149       0.00      0.00      0.00        11\n",
      "         150       0.00      0.00      0.00        11\n",
      "         151       0.00      0.00      0.00         8\n",
      "         152       0.00      0.00      0.00        13\n",
      "         153       0.00      0.00      0.00        10\n",
      "         154       0.00      0.00      0.00        13\n",
      "         155       0.00      0.00      0.00        10\n",
      "         156       0.00      0.00      0.00         5\n",
      "         157       0.00      0.00      0.00         9\n",
      "         158       0.00      0.00      0.00         5\n",
      "         159       0.00      0.00      0.00        11\n",
      "         160       0.00      0.00      0.00         5\n",
      "         161       0.00      0.00      0.00         6\n",
      "         162       0.00      0.00      0.00         8\n",
      "         163       0.00      0.00      0.00         3\n",
      "         164       0.00      0.00      0.00         8\n",
      "         165       0.00      0.00      0.00         5\n",
      "         166       0.00      0.00      0.00         6\n",
      "         167       0.00      0.00      0.00         3\n",
      "         168       0.00      0.00      0.00         8\n",
      "         169       0.00      0.00      0.00         7\n",
      "         170       0.00      0.00      0.00         6\n",
      "         171       0.00      0.00      0.00         8\n",
      "         172       0.00      0.00      0.00         3\n",
      "         173       0.00      0.00      0.00         7\n",
      "         174       0.00      0.00      0.00         3\n",
      "         175       0.00      0.00      0.00         8\n",
      "         176       0.00      0.00      0.00         6\n",
      "         177       0.00      0.00      0.00         5\n",
      "         178       0.00      0.00      0.00         5\n",
      "         180       0.00      0.00      0.00         4\n",
      "         181       0.00      0.00      0.00         2\n",
      "         182       0.00      0.00      0.00         3\n",
      "         183       0.00      0.00      0.00         2\n",
      "         184       0.00      0.00      0.00         5\n",
      "         185       0.00      0.00      0.00         7\n",
      "         186       0.00      0.00      0.00         5\n",
      "         187       0.00      0.00      0.00         2\n",
      "         188       0.00      0.00      0.00         1\n",
      "         189       0.00      0.00      0.00         5\n",
      "         190       0.00      0.00      0.00         1\n",
      "         191       0.00      0.00      0.00         1\n",
      "         192       0.00      0.00      0.00         1\n",
      "         193       0.00      0.00      0.00         4\n",
      "         194       0.00      0.00      0.00         1\n",
      "         195       0.00      0.00      0.00         2\n",
      "         197       0.00      0.00      0.00         3\n",
      "         198       0.00      0.00      0.00         1\n",
      "         199       0.00      0.00      0.00         2\n",
      "         200       0.00      0.00      0.00         1\n",
      "         201       0.00      0.00      0.00         1\n",
      "         204       0.00      0.00      0.00         1\n",
      "         208       0.00      0.00      0.00         3\n",
      "         210       0.00      0.00      0.00         3\n",
      "         211       0.00      0.00      0.00         2\n",
      "         212       0.00      0.00      0.00         3\n",
      "         213       0.00      0.00      0.00         1\n",
      "         214       0.00      0.00      0.00         1\n",
      "\n",
      "    accuracy                           0.02      3567\n",
      "   macro avg       0.01      0.01      0.01      3567\n",
      "weighted avg       0.01      0.02      0.01      3567\n",
      "\n"
     ]
    }
   ],
   "source": [
    "svc=SVC(kernel='poly')\n",
    "svc.fit(x_train,y_train)\n",
    "svc.score(x_train,y_train)\n",
    "predsvc=svc.predict(x_test)\n",
    "print(accuracy_score(y_test,predsvc))\n",
    "print(confusion_matrix(y_test,predsvc))\n",
    "print(classification_report(y_test,predsvc))"
   ]
  },
  {
   "cell_type": "code",
   "execution_count": 94,
   "id": "d7e941c3",
   "metadata": {},
   "outputs": [
    {
     "name": "stdout",
     "output_type": "stream",
     "text": [
      "0.03336136809643959\n",
      "[[0 0 0 ... 0 0 0]\n",
      " [0 0 0 ... 0 0 0]\n",
      " [0 0 0 ... 0 0 0]\n",
      " ...\n",
      " [0 0 0 ... 1 0 0]\n",
      " [0 0 0 ... 0 0 0]\n",
      " [0 0 0 ... 0 0 0]]\n",
      "              precision    recall  f1-score   support\n",
      "\n",
      "           0       0.00      0.00      0.00         0\n",
      "           1       0.00      0.00      0.00         1\n",
      "           3       0.00      0.00      0.00         0\n",
      "           4       0.00      0.00      0.00         1\n",
      "           5       0.00      0.00      0.00         1\n",
      "           6       0.00      0.00      0.00         0\n",
      "           7       0.00      0.00      0.00         1\n",
      "           9       0.00      0.00      0.00         2\n",
      "          10       0.00      0.00      0.00         1\n",
      "          11       0.00      0.00      0.00         3\n",
      "          12       0.00      0.00      0.00         2\n",
      "          13       0.00      0.00      0.00         1\n",
      "          14       0.00      0.00      0.00         2\n",
      "          15       0.00      0.00      0.00         3\n",
      "          16       0.00      0.00      0.00         3\n",
      "          17       0.00      0.00      0.00         2\n",
      "          18       0.00      0.00      0.00         5\n",
      "          19       0.00      0.00      0.00         4\n",
      "          20       0.00      0.00      0.00         3\n",
      "          21       0.00      0.00      0.00         2\n",
      "          22       0.00      0.00      0.00         3\n",
      "          23       0.17      0.22      0.19         9\n",
      "          24       0.00      0.00      0.00         6\n",
      "          25       0.00      0.00      0.00         7\n",
      "          26       0.00      0.00      0.00         6\n",
      "          27       0.06      0.08      0.06        13\n",
      "          28       0.00      0.00      0.00        10\n",
      "          29       0.04      0.10      0.06        10\n",
      "          30       0.00      0.00      0.00        13\n",
      "          31       0.08      0.14      0.10         7\n",
      "          32       0.00      0.00      0.00        14\n",
      "          33       0.00      0.00      0.00        12\n",
      "          34       0.00      0.00      0.00        14\n",
      "          35       0.00      0.00      0.00         9\n",
      "          36       0.06      0.06      0.06        18\n",
      "          37       0.00      0.00      0.00        12\n",
      "          38       0.00      0.00      0.00         9\n",
      "          39       0.00      0.00      0.00         8\n",
      "          40       0.00      0.00      0.00        13\n",
      "          41       0.03      0.05      0.04        19\n",
      "          42       0.00      0.00      0.00        20\n",
      "          43       0.00      0.00      0.00        16\n",
      "          44       0.05      0.04      0.05        24\n",
      "          45       0.06      0.08      0.07        24\n",
      "          46       0.05      0.09      0.06        22\n",
      "          47       0.04      0.03      0.04        33\n",
      "          48       0.06      0.12      0.08        25\n",
      "          49       0.06      0.11      0.08        28\n",
      "          50       0.06      0.10      0.07        29\n",
      "          51       0.08      0.07      0.07        44\n",
      "          52       0.05      0.09      0.07        34\n",
      "          53       0.06      0.05      0.06        38\n",
      "          54       0.02      0.03      0.03        35\n",
      "          55       0.05      0.06      0.05        34\n",
      "          56       0.04      0.06      0.05        36\n",
      "          57       0.10      0.12      0.11        33\n",
      "          58       0.07      0.09      0.08        32\n",
      "          59       0.00      0.00      0.00        38\n",
      "          60       0.00      0.00      0.00        39\n",
      "          61       0.00      0.00      0.00        39\n",
      "          62       0.00      0.00      0.00        40\n",
      "          63       0.00      0.00      0.00        34\n",
      "          64       0.03      0.03      0.03        35\n",
      "          65       0.00      0.00      0.00        42\n",
      "          66       0.00      0.00      0.00        34\n",
      "          67       0.02      0.03      0.02        37\n",
      "          68       0.00      0.00      0.00        42\n",
      "          69       0.00      0.00      0.00        31\n",
      "          70       0.00      0.00      0.00        36\n",
      "          71       0.03      0.02      0.02        41\n",
      "          72       0.09      0.09      0.09        35\n",
      "          73       0.04      0.04      0.04        24\n",
      "          74       0.03      0.04      0.04        24\n",
      "          75       0.00      0.00      0.00        34\n",
      "          76       0.02      0.04      0.03        23\n",
      "          77       0.12      0.08      0.10        38\n",
      "          78       0.03      0.03      0.03        32\n",
      "          79       0.10      0.10      0.10        41\n",
      "          80       0.00      0.00      0.00        22\n",
      "          81       0.00      0.00      0.00        29\n",
      "          82       0.00      0.00      0.00        31\n",
      "          83       0.00      0.00      0.00        25\n",
      "          84       0.06      0.09      0.07        22\n",
      "          85       0.00      0.00      0.00        27\n",
      "          86       0.03      0.03      0.03        35\n",
      "          87       0.03      0.03      0.03        31\n",
      "          88       0.03      0.03      0.03        33\n",
      "          89       0.09      0.09      0.09        44\n",
      "          90       0.00      0.00      0.00        31\n",
      "          91       0.04      0.05      0.05        40\n",
      "          92       0.05      0.06      0.05        32\n",
      "          93       0.00      0.00      0.00        30\n",
      "          94       0.06      0.07      0.06        30\n",
      "          95       0.00      0.00      0.00        24\n",
      "          96       0.03      0.06      0.04        33\n",
      "          97       0.00      0.00      0.00        34\n",
      "          98       0.00      0.00      0.00        35\n",
      "          99       0.08      0.05      0.06        41\n",
      "         100       0.00      0.00      0.00        24\n",
      "         101       0.06      0.07      0.07        41\n",
      "         102       0.05      0.08      0.06        24\n",
      "         103       0.07      0.06      0.06        32\n",
      "         104       0.08      0.07      0.07        29\n",
      "         105       0.00      0.00      0.00        27\n",
      "         106       0.06      0.03      0.04        29\n",
      "         107       0.00      0.00      0.00        37\n",
      "         108       0.00      0.00      0.00        31\n",
      "         109       0.08      0.07      0.08        27\n",
      "         110       0.00      0.00      0.00        24\n",
      "         111       0.00      0.00      0.00        28\n",
      "         112       0.03      0.03      0.03        37\n",
      "         113       0.00      0.00      0.00        33\n",
      "         114       0.11      0.06      0.08        31\n",
      "         115       0.06      0.03      0.04        29\n",
      "         116       0.07      0.04      0.05        28\n",
      "         117       0.00      0.00      0.00        34\n",
      "         118       0.06      0.04      0.04        28\n",
      "         119       0.00      0.00      0.00        29\n",
      "         120       0.00      0.00      0.00        29\n",
      "         121       0.00      0.00      0.00        28\n",
      "         122       0.06      0.07      0.07        27\n",
      "         123       0.08      0.03      0.05        30\n",
      "         124       0.00      0.00      0.00        19\n",
      "         125       0.06      0.04      0.05        24\n",
      "         126       0.00      0.00      0.00        17\n",
      "         127       0.00      0.00      0.00        22\n",
      "         128       0.05      0.06      0.05        17\n",
      "         129       0.12      0.04      0.06        25\n",
      "         130       0.00      0.00      0.00        17\n",
      "         131       0.18      0.10      0.12        21\n",
      "         132       0.08      0.05      0.06        22\n",
      "         133       0.00      0.00      0.00        22\n",
      "         134       0.00      0.00      0.00        18\n",
      "         135       0.00      0.00      0.00        24\n",
      "         136       0.09      0.11      0.10        18\n",
      "         137       0.00      0.00      0.00        19\n",
      "         138       0.00      0.00      0.00        16\n",
      "         139       0.00      0.00      0.00        18\n",
      "         140       0.12      0.07      0.09        15\n",
      "         141       0.08      0.09      0.09        11\n",
      "         142       0.00      0.00      0.00        13\n",
      "         143       0.22      0.10      0.14        20\n",
      "         144       0.08      0.07      0.08        14\n",
      "         145       0.00      0.00      0.00        17\n",
      "         146       0.10      0.08      0.09        13\n",
      "         147       0.00      0.00      0.00        12\n",
      "         148       0.00      0.00      0.00         9\n",
      "         149       0.00      0.00      0.00        11\n",
      "         150       0.00      0.00      0.00        11\n",
      "         151       0.00      0.00      0.00         8\n",
      "         152       0.00      0.00      0.00        13\n",
      "         153       0.17      0.10      0.12        10\n",
      "         154       0.00      0.00      0.00        13\n",
      "         155       0.00      0.00      0.00        10\n",
      "         156       0.00      0.00      0.00         5\n",
      "         157       0.00      0.00      0.00         9\n",
      "         158       0.00      0.00      0.00         5\n",
      "         159       0.14      0.09      0.11        11\n",
      "         160       0.00      0.00      0.00         5\n",
      "         161       0.00      0.00      0.00         6\n",
      "         162       0.00      0.00      0.00         8\n",
      "         163       0.00      0.00      0.00         3\n",
      "         164       0.00      0.00      0.00         8\n",
      "         165       0.00      0.00      0.00         5\n",
      "         166       0.00      0.00      0.00         6\n",
      "         167       0.00      0.00      0.00         3\n",
      "         168       0.00      0.00      0.00         8\n",
      "         169       0.25      0.14      0.18         7\n",
      "         170       0.00      0.00      0.00         6\n",
      "         171       0.00      0.00      0.00         8\n",
      "         172       0.00      0.00      0.00         3\n",
      "         173       0.00      0.00      0.00         7\n",
      "         174       0.00      0.00      0.00         3\n",
      "         175       0.00      0.00      0.00         8\n",
      "         176       0.00      0.00      0.00         6\n",
      "         177       0.00      0.00      0.00         5\n",
      "         178       0.00      0.00      0.00         5\n",
      "         179       0.00      0.00      0.00         0\n",
      "         180       0.00      0.00      0.00         4\n",
      "         181       0.00      0.00      0.00         2\n",
      "         182       0.00      0.00      0.00         3\n",
      "         183       0.00      0.00      0.00         2\n",
      "         184       0.00      0.00      0.00         5\n",
      "         185       0.00      0.00      0.00         7\n",
      "         186       0.20      0.20      0.20         5\n",
      "         187       0.00      0.00      0.00         2\n",
      "         188       0.00      0.00      0.00         1\n",
      "         189       0.50      0.20      0.29         5\n",
      "         190       0.00      0.00      0.00         1\n",
      "         191       0.00      0.00      0.00         1\n",
      "         192       0.00      0.00      0.00         1\n",
      "         193       0.00      0.00      0.00         4\n",
      "         194       0.00      0.00      0.00         1\n",
      "         195       0.00      0.00      0.00         2\n",
      "         196       0.00      0.00      0.00         0\n",
      "         197       0.00      0.00      0.00         3\n",
      "         198       0.00      0.00      0.00         1\n",
      "         199       0.00      0.00      0.00         2\n",
      "         200       0.00      0.00      0.00         1\n",
      "         201       0.00      0.00      0.00         1\n",
      "         203       0.00      0.00      0.00         0\n",
      "         204       0.00      0.00      0.00         1\n",
      "         207       0.00      0.00      0.00         0\n",
      "         208       0.00      0.00      0.00         3\n",
      "         210       0.00      0.00      0.00         3\n",
      "         211       0.00      0.00      0.00         2\n",
      "         212       0.50      0.33      0.40         3\n",
      "         213       0.00      0.00      0.00         1\n",
      "         214       0.00      0.00      0.00         1\n",
      "\n",
      "    accuracy                           0.03      3567\n",
      "   macro avg       0.03      0.03      0.03      3567\n",
      "weighted avg       0.03      0.03      0.03      3567\n",
      "\n"
     ]
    }
   ],
   "source": [
    "from sklearn.neighbors import KNeighborsClassifier\n",
    "knn=KNeighborsClassifier()\n",
    "\n",
    "knn.fit(x_train,y_train)\n",
    "knn.score(x_train,y_train)\n",
    "predknn=knn.predict(x_test)\n",
    "print(accuracy_score(y_test,predknn))\n",
    "print(confusion_matrix(y_test,predknn))\n",
    "print(classification_report(y_test,predknn))"
   ]
  },
  {
   "cell_type": "code",
   "execution_count": 95,
   "id": "1b601be6",
   "metadata": {},
   "outputs": [
    {
     "name": "stdout",
     "output_type": "stream",
     "text": [
      "0.045416316232127836\n",
      "[[0 0 0 ... 0 0 0]\n",
      " [0 0 0 ... 0 0 0]\n",
      " [0 0 0 ... 0 0 0]\n",
      " ...\n",
      " [0 0 0 ... 0 0 0]\n",
      " [0 0 0 ... 0 0 0]\n",
      " [0 0 0 ... 0 0 0]]\n",
      "              precision    recall  f1-score   support\n",
      "\n",
      "           1       0.00      0.00      0.00         1\n",
      "           3       0.00      0.00      0.00         0\n",
      "           4       0.00      0.00      0.00         1\n",
      "           5       0.00      0.00      0.00         1\n",
      "           6       0.00      0.00      0.00         0\n",
      "           7       0.00      0.00      0.00         1\n",
      "           9       0.00      0.00      0.00         2\n",
      "          10       0.00      0.00      0.00         1\n",
      "          11       0.00      0.00      0.00         3\n",
      "          12       0.00      0.00      0.00         2\n",
      "          13       0.00      0.00      0.00         1\n",
      "          14       0.00      0.00      0.00         2\n",
      "          15       0.00      0.00      0.00         3\n",
      "          16       0.00      0.00      0.00         3\n",
      "          17       0.00      0.00      0.00         2\n",
      "          18       0.00      0.00      0.00         5\n",
      "          19       0.00      0.00      0.00         4\n",
      "          20       0.17      0.33      0.22         3\n",
      "          21       0.00      0.00      0.00         2\n",
      "          22       0.20      0.33      0.25         3\n",
      "          23       0.20      0.22      0.21         9\n",
      "          24       0.00      0.00      0.00         6\n",
      "          25       0.00      0.00      0.00         7\n",
      "          26       0.00      0.00      0.00         6\n",
      "          27       0.06      0.08      0.07        13\n",
      "          28       0.00      0.00      0.00        10\n",
      "          29       0.14      0.10      0.12        10\n",
      "          30       0.00      0.00      0.00        13\n",
      "          31       0.00      0.00      0.00         7\n",
      "          32       0.06      0.07      0.07        14\n",
      "          33       0.06      0.08      0.07        12\n",
      "          34       0.00      0.00      0.00        14\n",
      "          35       0.00      0.00      0.00         9\n",
      "          36       0.12      0.11      0.12        18\n",
      "          37       0.00      0.00      0.00        12\n",
      "          38       0.00      0.00      0.00         9\n",
      "          39       0.00      0.00      0.00         8\n",
      "          40       0.06      0.08      0.06        13\n",
      "          41       0.00      0.00      0.00        19\n",
      "          42       0.09      0.10      0.10        20\n",
      "          43       0.06      0.06      0.06        16\n",
      "          44       0.09      0.04      0.06        24\n",
      "          45       0.00      0.00      0.00        24\n",
      "          46       0.06      0.09      0.07        22\n",
      "          47       0.14      0.09      0.11        33\n",
      "          48       0.04      0.04      0.04        25\n",
      "          49       0.03      0.04      0.04        28\n",
      "          50       0.07      0.07      0.07        29\n",
      "          51       0.10      0.07      0.08        44\n",
      "          52       0.06      0.09      0.07        34\n",
      "          53       0.07      0.05      0.06        38\n",
      "          54       0.00      0.00      0.00        35\n",
      "          55       0.03      0.03      0.03        34\n",
      "          56       0.10      0.08      0.09        36\n",
      "          57       0.11      0.12      0.12        33\n",
      "          58       0.00      0.00      0.00        32\n",
      "          59       0.03      0.03      0.03        38\n",
      "          60       0.18      0.15      0.16        39\n",
      "          61       0.06      0.05      0.05        39\n",
      "          62       0.00      0.00      0.00        40\n",
      "          63       0.05      0.06      0.05        34\n",
      "          64       0.02      0.03      0.03        35\n",
      "          65       0.07      0.05      0.06        42\n",
      "          66       0.08      0.09      0.09        34\n",
      "          67       0.03      0.03      0.03        37\n",
      "          68       0.00      0.00      0.00        42\n",
      "          69       0.03      0.03      0.03        31\n",
      "          70       0.00      0.00      0.00        36\n",
      "          71       0.08      0.07      0.08        41\n",
      "          72       0.02      0.03      0.03        35\n",
      "          73       0.00      0.00      0.00        24\n",
      "          74       0.00      0.00      0.00        24\n",
      "          75       0.03      0.03      0.03        34\n",
      "          76       0.05      0.09      0.06        23\n",
      "          77       0.10      0.08      0.09        38\n",
      "          78       0.03      0.03      0.03        32\n",
      "          79       0.07      0.07      0.07        41\n",
      "          80       0.10      0.14      0.11        22\n",
      "          81       0.03      0.03      0.03        29\n",
      "          82       0.00      0.00      0.00        31\n",
      "          83       0.00      0.00      0.00        25\n",
      "          84       0.00      0.00      0.00        22\n",
      "          85       0.06      0.04      0.04        27\n",
      "          86       0.08      0.06      0.07        35\n",
      "          87       0.03      0.03      0.03        31\n",
      "          88       0.03      0.03      0.03        33\n",
      "          89       0.08      0.09      0.08        44\n",
      "          90       0.00      0.00      0.00        31\n",
      "          91       0.00      0.00      0.00        40\n",
      "          92       0.04      0.03      0.04        32\n",
      "          93       0.03      0.03      0.03        30\n",
      "          94       0.00      0.00      0.00        30\n",
      "          95       0.00      0.00      0.00        24\n",
      "          96       0.08      0.12      0.10        33\n",
      "          97       0.12      0.09      0.10        34\n",
      "          98       0.05      0.03      0.04        35\n",
      "          99       0.11      0.05      0.07        41\n",
      "         100       0.05      0.08      0.06        24\n",
      "         101       0.13      0.10      0.11        41\n",
      "         102       0.02      0.04      0.03        24\n",
      "         103       0.08      0.06      0.07        32\n",
      "         104       0.06      0.07      0.06        29\n",
      "         105       0.05      0.07      0.06        27\n",
      "         106       0.06      0.07      0.07        29\n",
      "         107       0.03      0.03      0.03        37\n",
      "         108       0.06      0.06      0.06        31\n",
      "         109       0.05      0.07      0.06        27\n",
      "         110       0.08      0.08      0.08        24\n",
      "         111       0.00      0.00      0.00        28\n",
      "         112       0.05      0.05      0.05        37\n",
      "         113       0.05      0.03      0.04        33\n",
      "         114       0.06      0.06      0.06        31\n",
      "         115       0.08      0.07      0.08        29\n",
      "         116       0.07      0.07      0.07        28\n",
      "         117       0.04      0.03      0.03        34\n",
      "         118       0.03      0.04      0.03        28\n",
      "         119       0.00      0.00      0.00        29\n",
      "         120       0.00      0.00      0.00        29\n",
      "         121       0.00      0.00      0.00        28\n",
      "         122       0.03      0.04      0.03        27\n",
      "         123       0.05      0.03      0.04        30\n",
      "         124       0.06      0.05      0.06        19\n",
      "         125       0.07      0.08      0.08        24\n",
      "         126       0.05      0.06      0.05        17\n",
      "         127       0.06      0.05      0.05        22\n",
      "         128       0.00      0.00      0.00        17\n",
      "         129       0.11      0.08      0.09        25\n",
      "         130       0.00      0.00      0.00        17\n",
      "         131       0.00      0.00      0.00        21\n",
      "         132       0.07      0.09      0.08        22\n",
      "         133       0.00      0.00      0.00        22\n",
      "         134       0.11      0.17      0.13        18\n",
      "         135       0.08      0.08      0.08        24\n",
      "         136       0.04      0.06      0.04        18\n",
      "         137       0.00      0.00      0.00        19\n",
      "         138       0.11      0.12      0.11        16\n",
      "         139       0.00      0.00      0.00        18\n",
      "         140       0.00      0.00      0.00        15\n",
      "         141       0.00      0.00      0.00        11\n",
      "         142       0.00      0.00      0.00        13\n",
      "         143       0.05      0.05      0.05        20\n",
      "         144       0.04      0.07      0.05        14\n",
      "         145       0.12      0.12      0.12        17\n",
      "         146       0.10      0.08      0.09        13\n",
      "         147       0.00      0.00      0.00        12\n",
      "         148       0.00      0.00      0.00         9\n",
      "         149       0.00      0.00      0.00        11\n",
      "         150       0.00      0.00      0.00        11\n",
      "         151       0.00      0.00      0.00         8\n",
      "         152       0.25      0.08      0.12        13\n",
      "         153       0.00      0.00      0.00        10\n",
      "         154       0.00      0.00      0.00        13\n",
      "         155       0.00      0.00      0.00        10\n",
      "         156       0.00      0.00      0.00         5\n",
      "         157       0.00      0.00      0.00         9\n",
      "         158       0.00      0.00      0.00         5\n",
      "         159       0.25      0.18      0.21        11\n",
      "         160       0.00      0.00      0.00         5\n",
      "         161       0.00      0.00      0.00         6\n",
      "         162       0.00      0.00      0.00         8\n",
      "         163       0.00      0.00      0.00         3\n",
      "         164       0.00      0.00      0.00         8\n",
      "         165       0.00      0.00      0.00         5\n",
      "         166       0.00      0.00      0.00         6\n",
      "         167       0.00      0.00      0.00         3\n",
      "         168       0.00      0.00      0.00         8\n",
      "         169       0.00      0.00      0.00         7\n",
      "         170       0.00      0.00      0.00         6\n",
      "         171       0.00      0.00      0.00         8\n",
      "         172       0.12      0.33      0.18         3\n",
      "         173       0.22      0.29      0.25         7\n",
      "         174       0.00      0.00      0.00         3\n",
      "         175       0.00      0.00      0.00         8\n",
      "         176       0.00      0.00      0.00         6\n",
      "         177       0.00      0.00      0.00         5\n",
      "         178       0.00      0.00      0.00         5\n",
      "         179       0.00      0.00      0.00         0\n",
      "         180       0.00      0.00      0.00         4\n",
      "         181       0.00      0.00      0.00         2\n",
      "         182       0.00      0.00      0.00         3\n",
      "         183       0.00      0.00      0.00         2\n",
      "         184       0.00      0.00      0.00         5\n",
      "         185       0.00      0.00      0.00         7\n",
      "         186       0.33      0.20      0.25         5\n",
      "         187       0.00      0.00      0.00         2\n",
      "         188       0.00      0.00      0.00         1\n",
      "         189       0.00      0.00      0.00         5\n",
      "         190       0.00      0.00      0.00         1\n",
      "         191       0.00      0.00      0.00         1\n",
      "         192       0.00      0.00      0.00         1\n",
      "         193       0.00      0.00      0.00         4\n",
      "         194       0.00      0.00      0.00         1\n",
      "         195       0.00      0.00      0.00         2\n",
      "         196       0.00      0.00      0.00         0\n",
      "         197       0.00      0.00      0.00         3\n",
      "         198       0.00      0.00      0.00         1\n",
      "         199       0.00      0.00      0.00         2\n",
      "         200       0.00      0.00      0.00         1\n",
      "         201       0.00      0.00      0.00         1\n",
      "         203       0.00      0.00      0.00         0\n",
      "         204       0.00      0.00      0.00         1\n",
      "         205       0.00      0.00      0.00         0\n",
      "         207       0.00      0.00      0.00         0\n",
      "         208       0.00      0.00      0.00         3\n",
      "         210       0.00      0.00      0.00         3\n",
      "         211       0.00      0.00      0.00         2\n",
      "         212       0.00      0.00      0.00         3\n",
      "         213       0.00      0.00      0.00         1\n",
      "         214       0.00      0.00      0.00         1\n",
      "\n",
      "    accuracy                           0.05      3567\n",
      "   macro avg       0.03      0.04      0.03      3567\n",
      "weighted avg       0.05      0.05      0.05      3567\n",
      "\n"
     ]
    }
   ],
   "source": [
    "dt=DecisionTreeClassifier()\n",
    "\n",
    "dt.fit(x_train,y_train)\n",
    "dt.score(x_train,y_train)\n",
    "preddt=dt.predict(x_test)\n",
    "print(accuracy_score(y_test,preddt))\n",
    "print(confusion_matrix(y_test,preddt))\n",
    "print(classification_report(y_test,preddt))"
   ]
  },
  {
   "cell_type": "code",
   "execution_count": 96,
   "id": "f34defeb",
   "metadata": {},
   "outputs": [
    {
     "name": "stdout",
     "output_type": "stream",
     "text": [
      "0.045416316232127836\n"
     ]
    }
   ],
   "source": [
    "from sklearn.metrics import roc_curve\n",
    "from sklearn.metrics import roc_auc_score\n",
    "from sklearn.tree import DecisionTreeClassifier\n",
    "dt=DecisionTreeClassifier()\n",
    "dt.fit(x_train,y_train)\n",
    "p=dt.predict(x_test)\n",
    "print(accuracy_score(y_test,preddt))"
   ]
  },
  {
   "cell_type": "code",
   "execution_count": 97,
   "id": "53ad9269",
   "metadata": {},
   "outputs": [
    {
     "data": {
      "text/plain": [
       "array([0., 0., 0., ..., 0., 0., 0.])"
      ]
     },
     "execution_count": 97,
     "metadata": {},
     "output_type": "execute_result"
    }
   ],
   "source": [
    "y_pred_prob=dt.predict_proba(x_test)[:,1]\n",
    "y_pred_prob"
   ]
  },
  {
   "cell_type": "code",
   "execution_count": 99,
   "id": "ff63b0a4",
   "metadata": {},
   "outputs": [
    {
     "ename": "NameError",
     "evalue": "name 'FP' is not defined",
     "output_type": "error",
     "traceback": [
      "\u001b[1;31m---------------------------------------------------------------------------\u001b[0m",
      "\u001b[1;31mNameError\u001b[0m                                 Traceback (most recent call last)",
      "\u001b[1;32m<ipython-input-99-6fec51d55a02>\u001b[0m in \u001b[0;36m<module>\u001b[1;34m\u001b[0m\n\u001b[0;32m      1\u001b[0m \u001b[0mplt\u001b[0m\u001b[1;33m.\u001b[0m\u001b[0mplot\u001b[0m\u001b[1;33m(\u001b[0m\u001b[1;33m[\u001b[0m\u001b[1;36m0\u001b[0m\u001b[1;33m,\u001b[0m\u001b[1;36m1\u001b[0m\u001b[1;33m]\u001b[0m\u001b[1;33m,\u001b[0m\u001b[1;33m[\u001b[0m\u001b[1;36m0\u001b[0m\u001b[1;33m,\u001b[0m\u001b[1;36m1\u001b[0m\u001b[1;33m]\u001b[0m\u001b[1;33m,\u001b[0m\u001b[1;34m'k--'\u001b[0m\u001b[1;33m)\u001b[0m\u001b[1;33m\u001b[0m\u001b[1;33m\u001b[0m\u001b[0m\n\u001b[1;32m----> 2\u001b[1;33m \u001b[0mplt\u001b[0m\u001b[1;33m.\u001b[0m\u001b[0mplot\u001b[0m\u001b[1;33m(\u001b[0m\u001b[0mFP\u001b[0m\u001b[1;33m,\u001b[0m\u001b[0mtpr\u001b[0m\u001b[1;33m,\u001b[0m\u001b[0mlabel\u001b[0m\u001b[1;33m=\u001b[0m\u001b[1;34m'Decision tree classifier'\u001b[0m\u001b[1;33m)\u001b[0m\u001b[1;33m\u001b[0m\u001b[1;33m\u001b[0m\u001b[0m\n\u001b[0m\u001b[0;32m      3\u001b[0m \u001b[0mplt\u001b[0m\u001b[1;33m.\u001b[0m\u001b[0mxlabel\u001b[0m\u001b[1;33m(\u001b[0m\u001b[1;34m'False result heart disease'\u001b[0m\u001b[1;33m)\u001b[0m\u001b[1;33m\u001b[0m\u001b[1;33m\u001b[0m\u001b[0m\n\u001b[0;32m      4\u001b[0m \u001b[0mplt\u001b[0m\u001b[1;33m.\u001b[0m\u001b[0mylabel\u001b[0m\u001b[1;33m(\u001b[0m\u001b[1;34m'True result heart disease'\u001b[0m\u001b[1;33m)\u001b[0m\u001b[1;33m\u001b[0m\u001b[1;33m\u001b[0m\u001b[0m\n\u001b[0;32m      5\u001b[0m \u001b[0mplt\u001b[0m\u001b[1;33m.\u001b[0m\u001b[0mtitle\u001b[0m\u001b[1;33m(\u001b[0m\u001b[1;34m'Decision Tree Classifier'\u001b[0m\u001b[1;33m)\u001b[0m\u001b[1;33m\u001b[0m\u001b[1;33m\u001b[0m\u001b[0m\n",
      "\u001b[1;31mNameError\u001b[0m: name 'FP' is not defined"
     ]
    },
    {
     "data": {
      "image/png": "[encoded data removed]",
      "text/plain": [
       "<Figure size 432x288 with 1 Axes>"
      ]
     },
     "metadata": {
      "needs_background": "light"
     },
     "output_type": "display_data"
    }
   ],
   "source": [
    "plt.plot([0,1],[0,1],'k--')\n",
    "plt.plot(FP,tpr,label='Decision tree classifier')\n",
    "plt.xlabel('False result heart disease')\n",
    "plt.ylabel('True result heart disease')\n",
    "plt.title('Decision Tree Classifier')\n",
    "plt.show()\n",
    "auc_score=roc_auc_score(y_test,dt.predict(x_test))\n",
    "auc_score"
   ]
  },
  {
   "cell_type": "code",
   "execution_count": 100,
   "id": "8e26e278",
   "metadata": {},
   "outputs": [],
   "source": [
    "from sklearn.model_selection import train_test_split\n",
    "from sklearn.linear_model import LogisticRegression\n",
    "lr=LogisticRegression()\n",
    "from sklearn.metrics import r2_score\n",
    "from sklearn import linear_model"
   ]
  },
  {
   "cell_type": "code",
   "execution_count": 101,
   "id": "5a19141d",
   "metadata": {},
   "outputs": [
    {
     "name": "stdout",
     "output_type": "stream",
     "text": [
      "max r2 score corresponding to:- 81 is 0.5637829009995536\n"
     ]
    }
   ],
   "source": [
    "max_r_score=0\n",
    "for r_state in range (30,100):\n",
    "    x_train,x_test,y_train,y_test=train_test_split(x,y,random_state=r_state,test_size=0.20) \n",
    "    regr=linear_model.LinearRegression()\n",
    "    regr.fit(x_train,y_train)\n",
    "    y_pred=regr.predict(x_test)\n",
    "    r2_scr=r2_score(y_test,y_pred)\n",
    "    if r2_scr>max_r_score:\n",
    "        max_r_score=r2_scr\n",
    "        final_r_state=r_state\n",
    "        \n",
    "print(\"max r2 score corresponding to:-\",final_r_state,\"is\",max_r_score)"
   ]
  },
  {
   "cell_type": "code",
   "execution_count": 102,
   "id": "9e5943df",
   "metadata": {},
   "outputs": [],
   "source": [
    "x_train,x_test,y_train,y_test=train_test_split(x,y,random_state=81,test_size=0.20) \n"
   ]
  },
  {
   "cell_type": "code",
   "execution_count": 103,
   "id": "34c350d3",
   "metadata": {},
   "outputs": [
    {
     "data": {
      "text/plain": [
       "0.1713009405003536"
      ]
     },
     "execution_count": 103,
     "metadata": {},
     "output_type": "execute_result"
    }
   ],
   "source": [
    "from sklearn.model_selection import cross_val_score\n",
    "cross_val_score(linear_model.LinearRegression(),x,y,cv=10,scoring=\"r2\").mean()"
   ]
  },
  {
   "cell_type": "code",
   "execution_count": null,
   "id": "8313aac3",
   "metadata": {},
   "outputs": [],
   "source": [
    "LINEAR REGRESSION"
   ]
  },
  {
   "cell_type": "code",
   "execution_count": 104,
   "id": "5cc6db39",
   "metadata": {},
   "outputs": [],
   "source": [
    "x_train,x_test,y_train,y_test=train_test_split(x,y,random_state=81,test_size=0.20) \n",
    "lreg=linear_model.LinearRegression()\n",
    "lreg.fit(x_train,y_train)\n",
    "y_pred=lreg.predict(x_test)"
   ]
  },
  {
   "cell_type": "code",
   "execution_count": 105,
   "id": "d9945741",
   "metadata": {},
   "outputs": [
    {
     "name": "stdout",
     "output_type": "stream",
     "text": [
      "r2 score is  <function r2_score at 0x00000209463C14C0> (array([[-1.34366435, -0.39059947, -1.5422677 , ...,  1.02303064,\n",
      "        -0.10422044, -0.40001389],\n",
      "       [ 0.34242636,  0.34837508,  0.24206969, ..., -0.97748783,\n",
      "        -1.27486262, -1.24530269],\n",
      "       [-0.17611796,  0.26302649, -0.78611128, ..., -0.97748783,\n",
      "        -1.27486262, -1.50682143],\n",
      "       ...,\n",
      "       [-1.98167416, -1.41111424, -1.16984869, ...,  1.02303064,\n",
      "        -0.10422044, -0.78915657],\n",
      "       [-1.15067119, -0.35870072, -1.5687141 , ...,  1.02303064,\n",
      "        -0.10422044,  0.30733867],\n",
      "       [-1.15626982, -0.43594407, -1.47499235, ...,  1.02303064,\n",
      "        -0.10422044,  0.30733867]]), array([124.04675695,  63.48683323,  59.08407233, ..., 151.38947961,\n",
      "       113.76922198, 115.62986766]))\n",
      "RMSE is : 25.784040481755085\n"
     ]
    }
   ],
   "source": [
    "from sklearn.metrics import r2_score\n",
    "from sklearn.metrics import mean_squared_error\n",
    "print (\"r2 score is \",r2_score,(x_test,y_pred))\n",
    "print(\"RMSE is :\",np.sqrt(mean_squared_error(y_test,y_pred)))"
   ]
  },
  {
   "cell_type": "code",
   "execution_count": 106,
   "id": "f4346c33",
   "metadata": {},
   "outputs": [],
   "source": [
    "from sklearn.model_selection import GridSearchCV\n",
    "from sklearn.model_selection import cross_val_score\n",
    "import warnings\n",
    "warnings.filterwarnings('ignore')"
   ]
  },
  {
   "cell_type": "code",
   "execution_count": null,
   "id": "805d8a55",
   "metadata": {},
   "outputs": [],
   "source": [
    "LASSO REGRESSION"
   ]
  },
  {
   "cell_type": "code",
   "execution_count": 107,
   "id": "001b48a8",
   "metadata": {},
   "outputs": [
    {
     "name": "stdout",
     "output_type": "stream",
     "text": [
      "{'alpha': 0.0001, 'random_state': 0}\n"
     ]
    }
   ],
   "source": [
    "from sklearn.linear_model import Lasso\n",
    "\n",
    "parameters={'alpha':[.0001,.001,.01,.1,1,10],'random_state':list(range(0,10))}\n",
    "ls=Lasso()\n",
    "clf= GridSearchCV(ls,parameters)\n",
    "clf.fit(x_train,y_train)\n",
    "\n",
    "print(clf.best_params_)"
   ]
  },
  {
   "cell_type": "code",
   "execution_count": 108,
   "id": "94ba8d84",
   "metadata": {},
   "outputs": [
    {
     "name": "stdout",
     "output_type": "stream",
     "text": [
      "At cv:- 2\n",
      "Cross validation score is :- -31.56326327282517\n",
      "R2_score is:- 56.37826089581357\n",
      "\n",
      "\n",
      "At cv:- 3\n",
      "Cross validation score is :- 13.065544582644971\n",
      "R2_score is:- 56.37826089581357\n",
      "\n",
      "\n",
      "At cv:- 4\n",
      "Cross validation score is :- 13.031688272503406\n",
      "R2_score is:- 56.37826089581357\n",
      "\n",
      "\n",
      "At cv:- 5\n",
      "Cross validation score is :- 22.76183968100156\n",
      "R2_score is:- 56.37826089581357\n",
      "\n",
      "\n",
      "At cv:- 6\n",
      "Cross validation score is :- 15.745678202194691\n",
      "R2_score is:- 56.37826089581357\n",
      "\n",
      "\n",
      "At cv:- 7\n",
      "Cross validation score is :- 18.553069203066492\n",
      "R2_score is:- 56.37826089581357\n",
      "\n",
      "\n",
      "At cv:- 8\n",
      "Cross validation score is :- 17.712372285342283\n",
      "R2_score is:- 56.37826089581357\n",
      "\n",
      "\n",
      "At cv:- 9\n",
      "Cross validation score is :- 18.68356013015181\n",
      "R2_score is:- 56.37826089581357\n",
      "\n",
      "\n"
     ]
    }
   ],
   "source": [
    "ls=Lasso(alpha=0.0001,random_state=0)\n",
    "ls.fit(x_train,y_train)\n",
    "ls.score(x_train,y_train)\n",
    "pred_ls=ls.predict(x_test)\n",
    "\n",
    "lss=r2_score(y_test,pred_ls)\n",
    "for j in range (2,10):\n",
    "    lsscore=cross_val_score(ls,x,y,cv=j)\n",
    "    lsc=lsscore.mean()\n",
    "    print(\"At cv:-\",j)\n",
    "    print(\"Cross validation score is :-\",lsc*100)\n",
    "    print(\"R2_score is:-\",lss*100)\n",
    "    print(\"\\n\")"
   ]
  },
  {
   "cell_type": "code",
   "execution_count": 109,
   "id": "1d1e8718",
   "metadata": {},
   "outputs": [
    {
     "name": "stdout",
     "output_type": "stream",
     "text": [
      "at cv :- 5\n",
      "at cross validation score is :- 22.6594\n",
      "r2_score:- 52.919\n"
     ]
    }
   ],
   "source": [
    "print (\"at cv :-\",5)\n",
    "print(\"at cross validation score is :-\",22.6594)\n",
    "print(\"r2_score:-\",52.9190)"
   ]
  },
  {
   "cell_type": "code",
   "execution_count": 114,
   "id": "d879bd7a",
   "metadata": {},
   "outputs": [],
   "source": [
    "from sklearn.metrics import mean_absolute_error\n",
    "from sklearn.metrics import mean_squared_error\n",
    "import numpy as np"
   ]
  },
  {
   "cell_type": "code",
   "execution_count": 115,
   "id": "4b709ab2",
   "metadata": {},
   "outputs": [
    {
     "name": "stdout",
     "output_type": "stream",
     "text": [
      "Error:-\n",
      "MeanAbsoluteError: 20.43512253394648\n",
      "MeanSquaredError: 664.8171886505573\n",
      "RootMeanSquareError: 25.78404911278594\n"
     ]
    }
   ],
   "source": [
    "print('Error:-')\n",
    "print('MeanAbsoluteError:',mean_absolute_error(y_test,pred_ls))\n",
    "print('MeanSquaredError:',mean_squared_error(y_test,pred_ls))\n",
    "print('RootMeanSquareError:',np.sqrt(mean_squared_error(y_test,pred_ls)))"
   ]
  },
  {
   "cell_type": "code",
   "execution_count": 116,
   "id": "43f06a9f",
   "metadata": {},
   "outputs": [
    {
     "data": {
      "image/png": "[encoded data removed]",
      "text/plain": [
       "<Figure size 576x432 with 1 Axes>"
      ]
     },
     "metadata": {
      "needs_background": "light"
     },
     "output_type": "display_data"
    }
   ],
   "source": [
    "plt.figure(figsize=(8,6))\n",
    "plt.scatter(x=y_test,y=pred_ls,color='r')\n",
    "plt.plot(y_test,y_test,color='b')\n",
    "plt.xlabel(\"Actual Sales of Avacados\",fontsize=14)\n",
    "plt.ylabel(\"Predicted Sales of Avacados\",fontsize=14)\n",
    "plt.title(\"LassoRegression\",fontsize=18)\n",
    "plt.show()"
   ]
  },
  {
   "cell_type": "code",
   "execution_count": null,
   "id": "db2f7cae",
   "metadata": {},
   "outputs": [],
   "source": [
    "Decision Tree Regressor"
   ]
  },
  {
   "cell_type": "code",
   "execution_count": 117,
   "id": "0e108df4",
   "metadata": {},
   "outputs": [
    {
     "name": "stdout",
     "output_type": "stream",
     "text": [
      "{'criterion': 'mse', 'splitter': 'best'}\n"
     ]
    }
   ],
   "source": [
    "from sklearn.tree import DecisionTreeRegressor\n",
    "parameters={'criterion':['mse','friedman_mse','mae'],'splitter':['best','random']}\n",
    "dt=DecisionTreeRegressor()\n",
    "clf=GridSearchCV(dt,parameters)\n",
    "clf.fit(x_train,y_train)\n",
    "\n",
    "print(clf.best_params_)"
   ]
  },
  {
   "cell_type": "code",
   "execution_count": 118,
   "id": "0f746a35",
   "metadata": {},
   "outputs": [
    {
     "name": "stdout",
     "output_type": "stream",
     "text": [
      "R2 Score: 66.01191188541017\n",
      "cross val score: -45.345069417802485\n"
     ]
    }
   ],
   "source": [
    "dt=DecisionTreeRegressor(criterion='friedman_mse',splitter='random')\n",
    "dt.fit(x_train,y_train)\n",
    "dt.score(x_train,y_train)\n",
    "pred_decision=dt.predict(x_test)\n",
    "\n",
    "dts=r2_score(y_test,pred_decision)\n",
    "print('R2 Score:',dts*100)\n",
    "\n",
    "dtscore=cross_val_score(dt,x,y,cv=5)\n",
    "dtc=dtscore.mean()\n",
    "print('cross val score:',dtc*100)"
   ]
  },
  {
   "cell_type": "code",
   "execution_count": 119,
   "id": "a43b958d",
   "metadata": {},
   "outputs": [
    {
     "name": "stdout",
     "output_type": "stream",
     "text": [
      "Error:-\n",
      "MeanAbsoluteError: 14.835996635828428\n",
      "MeanSquaredError: 517.995514437903\n",
      "RootMeanSquareError: 22.759514811126863\n"
     ]
    }
   ],
   "source": [
    "print('Error:-')\n",
    "print('MeanAbsoluteError:',mean_absolute_error(y_test,pred_decision))\n",
    "print('MeanSquaredError:',mean_squared_error(y_test,pred_decision))\n",
    "print('RootMeanSquareError:',np.sqrt(mean_squared_error(y_test,pred_decision)))"
   ]
  },
  {
   "cell_type": "code",
   "execution_count": 120,
   "id": "51db90b8",
   "metadata": {},
   "outputs": [
    {
     "data": {
      "image/png": "[encoded data removed]",
      "text/plain": [
       "<Figure size 576x432 with 1 Axes>"
      ]
     },
     "metadata": {
      "needs_background": "light"
     },
     "output_type": "display_data"
    }
   ],
   "source": [
    "plt.figure(figsize=(8,6))\n",
    "plt.scatter(x=y_test,y=pred_decision,color='r')\n",
    "plt.plot(y_test,y_test,color='b')\n",
    "plt.xlabel(\"Actual Sales of Avacados\",fontsize=14)\n",
    "plt.ylabel(\"Predicted Sales of Avacados\",fontsize=14)\n",
    "plt.title(\"DecisionTreeRegressor\",fontsize=18)\n",
    "plt.show()"
   ]
  },
  {
   "cell_type": "code",
   "execution_count": null,
   "id": "5cf3f7b6",
   "metadata": {},
   "outputs": [],
   "source": [
    "Gradient Boosting Regressor"
   ]
  },
  {
   "cell_type": "code",
   "execution_count": 121,
   "id": "f67db38a",
   "metadata": {},
   "outputs": [
    {
     "name": "stdout",
     "output_type": "stream",
     "text": [
      "{'criterion': 'mse', 'loss': 'ls', 'n_estimators': 200}\n"
     ]
    }
   ],
   "source": [
    "from sklearn.datasets import make_regression\n",
    "from sklearn.ensemble import GradientBoostingRegressor\n",
    "parameters={'loss':['ls','lad','huber','quantile'],'n_estimators':[50,100,200],'criterion':['friedman_mse','mse']}\n",
    "gbr=GradientBoostingRegressor()\n",
    "clf=GridSearchCV(gbr,parameters)\n",
    "clf.fit(x_train,y_train)\n",
    "                         \n",
    "print(clf.best_params_)"
   ]
  },
  {
   "cell_type": "code",
   "execution_count": 122,
   "id": "42599371",
   "metadata": {},
   "outputs": [
    {
     "name": "stdout",
     "output_type": "stream",
     "text": [
      "R2 SCORE 74.89840233850241\n",
      "CrossValScore: 41.18352376542346\n"
     ]
    }
   ],
   "source": [
    "gbr=GradientBoostingRegressor(criterion='friedman_mse',loss='ls',n_estimators=200)\n",
    "gbr.fit(x_train,y_train)\n",
    "gbr.score(x_train,y_train)\n",
    "pred_gbr=gbr.predict(x_test)\n",
    "\n",
    "gbrs=r2_score(y_test,pred_gbr)\n",
    "print('R2 SCORE',gbrs*100)\n",
    "\n",
    "gbscore=cross_val_score(gbr,x,y,cv=5)\n",
    "gbrc=gbscore.mean()\n",
    "print('CrossValScore:',gbrc*100)"
   ]
  },
  {
   "cell_type": "code",
   "execution_count": 123,
   "id": "5a709dd6",
   "metadata": {},
   "outputs": [
    {
     "name": "stdout",
     "output_type": "stream",
     "text": [
      "Error:-\n",
      "MeanAbsoluteError: 14.753697016497844\n",
      "MeanSquaredError: 382.5609416464707\n",
      "RootMeanSquareError: 19.559165157196016\n"
     ]
    }
   ],
   "source": [
    "print('Error:-')\n",
    "print('MeanAbsoluteError:',mean_absolute_error(y_test,pred_gbr))\n",
    "print('MeanSquaredError:',mean_squared_error(y_test,pred_gbr))\n",
    "print('RootMeanSquareError:',np.sqrt(mean_squared_error(y_test,pred_gbr)))"
   ]
  },
  {
   "cell_type": "code",
   "execution_count": 124,
   "id": "b11bd398",
   "metadata": {},
   "outputs": [
    {
     "data": {
      "image/png": "[encoded data removed]",
      "text/plain": [
       "<Figure size 576x432 with 1 Axes>"
      ]
     },
     "metadata": {
      "needs_background": "light"
     },
     "output_type": "display_data"
    }
   ],
   "source": [
    "plt.figure(figsize=(8,6))\n",
    "plt.scatter(x=y_test,y=pred_gbr,color='r')\n",
    "plt.plot(y_test,y_test,color='b')\n",
    "plt.xlabel(\"Actual sales of Avacados\",fontsize=14)\n",
    "plt.ylabel(\"Predicted sales of Avacados\",fontsize=14)\n",
    "plt.title(\"GradientBoostingRegressor\",fontsize=18)\n",
    "plt.show()"
   ]
  },
  {
   "cell_type": "code",
   "execution_count": null,
   "id": "8e9ea2da",
   "metadata": {},
   "outputs": [],
   "source": [
    "AdaBoost Regressor"
   ]
  },
  {
   "cell_type": "code",
   "execution_count": 125,
   "id": "b21e82c7",
   "metadata": {},
   "outputs": [
    {
     "name": "stdout",
     "output_type": "stream",
     "text": [
      "{'base_estimator': None, 'learning_rate': 2.0, 'loss': 'square', 'n_estimators': 100, 'random_state': 50}\n"
     ]
    }
   ],
   "source": [
    "from sklearn.ensemble import AdaBoostRegressor\n",
    "ADB=AdaBoostRegressor()\n",
    "parameters={'base_estimator':[None], 'learning_rate':[1.0,2.0], 'loss':['linear','square','exponential'],'n_estimators':[50,100],'random_state':[50]}\n",
    "ADB=AdaBoostRegressor()\n",
    "clf=GridSearchCV(ADB,parameters)\n",
    "clf.fit(x_train,y_train)\n",
    "                         \n",
    "print(clf.best_params_)"
   ]
  },
  {
   "cell_type": "code",
   "execution_count": 126,
   "id": "8788b7dd",
   "metadata": {},
   "outputs": [
    {
     "name": "stdout",
     "output_type": "stream",
     "text": [
      "R2 Score: 52.972530883030736\n",
      "cross val score: -10.026454042877688\n"
     ]
    }
   ],
   "source": [
    "ADB=AdaBoostRegressor(base_estimator=None,learning_rate=2.0,loss='square',n_estimators=100,random_state=50)\n",
    "ADB.fit(x_train,y_train)\n",
    "ADB.score(x_train,y_train)\n",
    "pred_ADB=ADB.predict(x_test)\n",
    "\n",
    "ADBS=r2_score(y_test,pred_ADB)\n",
    "print('R2 Score:',ADBS*100)\n",
    "\n",
    "ADBSscore=cross_val_score(ADB,x,y,cv=5)\n",
    "ADBC=ADBSscore.mean()\n",
    "print('cross val score:',ADBC*100)"
   ]
  },
  {
   "cell_type": "code",
   "execution_count": 127,
   "id": "de6e6d02",
   "metadata": {},
   "outputs": [
    {
     "name": "stdout",
     "output_type": "stream",
     "text": [
      "Error:-\n",
      "MeanAbsoluteError: 21.860112420442036\n",
      "MeanSquaredError: 716.7222226748387\n",
      "RootMeanSquareError: 26.771668283370737\n"
     ]
    }
   ],
   "source": [
    "print('Error:-')\n",
    "print('MeanAbsoluteError:',mean_absolute_error(y_test,pred_ADB))\n",
    "print('MeanSquaredError:',mean_squared_error(y_test,pred_ADB))\n",
    "print('RootMeanSquareError:',np.sqrt(mean_squared_error(y_test,pred_ADB)))"
   ]
  },
  {
   "cell_type": "code",
   "execution_count": 128,
   "id": "2408fec8",
   "metadata": {},
   "outputs": [
    {
     "data": {
      "image/png": "[encoded data removed]",
      "text/plain": [
       "<Figure size 576x432 with 1 Axes>"
      ]
     },
     "metadata": {
      "needs_background": "light"
     },
     "output_type": "display_data"
    }
   ],
   "source": [
    "plt.figure(figsize=(8,6))\n",
    "\n",
    "plt.scatter(x=y_test,y=pred_ADB,color='r')\n",
    "plt.plot(y_test,y_test,color='b')\n",
    "plt.xlabel(\"Actual sales of Avacados\",fontsize=14)\n",
    "plt.ylabel(\"Predicted sales of Avacados\",fontsize=14)\n",
    "plt.title(\"AdaBoostRegressor\",fontsize=18)\n",
    "plt.show()"
   ]
  },
  {
   "cell_type": "code",
   "execution_count": null,
   "id": "16f86b2a",
   "metadata": {},
   "outputs": [],
   "source": [
    "SGD Regressor"
   ]
  },
  {
   "cell_type": "code",
   "execution_count": 129,
   "id": "e3e50c82",
   "metadata": {},
   "outputs": [
    {
     "name": "stdout",
     "output_type": "stream",
     "text": [
      "{'alpha': 0.001, 'epsilon': 0.1, 'max_iter': 1000, 'penalty': 'elasticnet', 'tol': 0.001}\n"
     ]
    }
   ],
   "source": [
    "from sklearn.linear_model import SGDRegressor\n",
    "parameters={'alpha':[0.0001,0.001,0.01,0.1],'epsilon':[0.01,0.1],'penalty':['elasticnet'],'max_iter':[1000],'tol':[1e-3]}\n",
    "SGD=SGDRegressor()\n",
    "clf=GridSearchCV(SGD,parameters)\n",
    "clf.fit(x_train,y_train)\n",
    "                         \n",
    "print(clf.best_params_)"
   ]
  },
  {
   "cell_type": "code",
   "execution_count": 130,
   "id": "87bbf23e",
   "metadata": {},
   "outputs": [
    {
     "name": "stdout",
     "output_type": "stream",
     "text": [
      "Accuracy=56.378290099955365,Cross_Val_score=53.264678428706205and difference=3.11361167124916\n"
     ]
    }
   ],
   "source": [
    "SGD=SGDRegressor(alpha=0.0001,epsilon=0.01,max_iter=1000,penalty='elasticnet',tol=0.001)\n",
    "SGD.fit(x_train,y_train)\n",
    "pred_SGD=SGD.predict(x_test)\n",
    "r2score=r2_score(y_test,y_pred)\n",
    "cvscore=cross_val_score(SGDRegressor(),x_train,y_train,cv=5).mean()\n",
    "\n",
    "print(f\"Accuracy={r2score*100},Cross_Val_score={cvscore*100}and difference={(r2score*100)-(cvscore*100)}\")"
   ]
  },
  {
   "cell_type": "code",
   "execution_count": 131,
   "id": "c381f589",
   "metadata": {},
   "outputs": [
    {
     "name": "stdout",
     "output_type": "stream",
     "text": [
      "Error:-\n",
      "MeanAbsoluteError: 20.483294782294173\n",
      "MeanSquaredError: 665.6984376760794\n",
      "RootMeanSquareError: 25.801132488247088\n"
     ]
    }
   ],
   "source": [
    "print('Error:-')\n",
    "print('MeanAbsoluteError:',mean_absolute_error(y_test,pred_SGD))\n",
    "print('MeanSquaredError:',mean_squared_error(y_test,pred_SGD))\n",
    "print('RootMeanSquareError:',np.sqrt(mean_squared_error(y_test,pred_SGD)))"
   ]
  },
  {
   "cell_type": "code",
   "execution_count": 132,
   "id": "c7ea96f3",
   "metadata": {},
   "outputs": [
    {
     "data": {
      "image/png": "[encoded data removed]",
      "text/plain": [
       "<Figure size 576x432 with 1 Axes>"
      ]
     },
     "metadata": {
      "needs_background": "light"
     },
     "output_type": "display_data"
    }
   ],
   "source": [
    "plt.figure(figsize=(8,6))\n",
    "plt.scatter(x=y_test,y=pred_SGD,color='r')\n",
    "plt.plot(y_test,y_test,color='b')\n",
    "plt.xlabel(\"Actual sales of Avacados\",fontsize=14)\n",
    "plt.ylabel(\"Predicted sales of Avacados\",fontsize=14)\n",
    "plt.title(\"SGDRegressor\",fontsize=18)\n",
    "plt.show()"
   ]
  },
  {
   "cell_type": "code",
   "execution_count": 133,
   "id": "e64a7b18",
   "metadata": {},
   "outputs": [
    {
     "name": "stdout",
     "output_type": "stream",
     "text": [
      "Final accuracy: 56.286974988696194\n"
     ]
    },
    {
     "data": {
      "text/plain": [
       "<bound method BaseSearchCV.fit of GridSearchCV(estimator=SGDRegressor(),\n",
       "             param_grid={'alpha': [0.0001, 0.001, 0.01, 0.1],\n",
       "                         'epsilon': [0.01, 0.1], 'max_iter': [1000],\n",
       "                         'penalty': ['elasticnet'], 'tol': [0.001]})>"
      ]
     },
     "execution_count": 133,
     "metadata": {},
     "output_type": "execute_result"
    }
   ],
   "source": [
    "parameters={\"alpha\":[0.0001,0.001,0.01,0.1,1,10],\"epsilon\":[0.01,0.1],'max_iter':[1000],'tol':[1e-3]}\n",
    "\n",
    "from sklearn.model_selection import GridSearchCV\n",
    "\n",
    "GCV=GridSearchCV(SGDRegressor(),parameters,cv=5,scoring='r2')\n",
    "\n",
    "GCV.fit(x_train,y_train)\n",
    "GCV.best_estimator_\n",
    "GCV_pred=GCV.best_estimator_.predict(x_test)\n",
    "\n",
    "\n",
    "print(\"Final accuracy:\",r2_score(y_test,GCV_pred)*100)\n",
    "clf.fit"
   ]
  },
  {
   "cell_type": "code",
   "execution_count": null,
   "id": "def98d1c",
   "metadata": {},
   "outputs": [],
   "source": [
    "SERIALIZTION"
   ]
  },
  {
   "cell_type": "code",
   "execution_count": 134,
   "id": "a44dacaf",
   "metadata": {},
   "outputs": [],
   "source": [
    "import pickle\n",
    "filename='inhouse_avacadoproject.pkl'"
   ]
  },
  {
   "cell_type": "code",
   "execution_count": 135,
   "id": "4c6abe04",
   "metadata": {},
   "outputs": [],
   "source": [
    "pickle.dump(SGD,open(filename,'wb'))"
   ]
  },
  {
   "cell_type": "code",
   "execution_count": null,
   "id": "a12f46b1",
   "metadata": {},
   "outputs": [],
   "source": [
    "CONCLUSION"
   ]
  },
  {
   "cell_type": "code",
   "execution_count": 137,
   "id": "d19231b4",
   "metadata": {},
   "outputs": [],
   "source": [
    "import numpy as np\n",
    "a=np.array(y_test)\n",
    "predicted=np.array(SGD.predict(x_test))"
   ]
  },
  {
   "cell_type": "code",
   "execution_count": 138,
   "id": "6708993e",
   "metadata": {},
   "outputs": [],
   "source": [
    "df_final=pd.DataFrame({\"original\":a,\"predicted\":predicted},index=range(len(a)))\n"
   ]
  },
  {
   "cell_type": "code",
   "execution_count": 139,
   "id": "214d5f15",
   "metadata": {},
   "outputs": [
    {
     "data": {
      "text/html": [
       "<div>\n",
       "<style scoped>\n",
       "    .dataframe tbody tr th:only-of-type {\n",
       "        vertical-align: middle;\n",
       "    }\n",
       "\n",
       "    .dataframe tbody tr th {\n",
       "        vertical-align: top;\n",
       "    }\n",
       "\n",
       "    .dataframe thead th {\n",
       "        text-align: right;\n",
       "    }\n",
       "</style>\n",
       "<table border=\"1\" class=\"dataframe\">\n",
       "  <thead>\n",
       "    <tr style=\"text-align: right;\">\n",
       "      <th></th>\n",
       "      <th>original</th>\n",
       "      <th>predicted</th>\n",
       "    </tr>\n",
       "  </thead>\n",
       "  <tbody>\n",
       "    <tr>\n",
       "      <th>0</th>\n",
       "      <td>170</td>\n",
       "      <td>124.903247</td>\n",
       "    </tr>\n",
       "    <tr>\n",
       "      <th>1</th>\n",
       "      <td>72</td>\n",
       "      <td>63.368757</td>\n",
       "    </tr>\n",
       "    <tr>\n",
       "      <th>2</th>\n",
       "      <td>56</td>\n",
       "      <td>60.150598</td>\n",
       "    </tr>\n",
       "    <tr>\n",
       "      <th>3</th>\n",
       "      <td>150</td>\n",
       "      <td>111.201541</td>\n",
       "    </tr>\n",
       "    <tr>\n",
       "      <th>4</th>\n",
       "      <td>58</td>\n",
       "      <td>82.569805</td>\n",
       "    </tr>\n",
       "    <tr>\n",
       "      <th>...</th>\n",
       "      <td>...</td>\n",
       "      <td>...</td>\n",
       "    </tr>\n",
       "    <tr>\n",
       "      <th>3562</th>\n",
       "      <td>100</td>\n",
       "      <td>86.356710</td>\n",
       "    </tr>\n",
       "    <tr>\n",
       "      <th>3563</th>\n",
       "      <td>60</td>\n",
       "      <td>71.784060</td>\n",
       "    </tr>\n",
       "    <tr>\n",
       "      <th>3564</th>\n",
       "      <td>161</td>\n",
       "      <td>151.227341</td>\n",
       "    </tr>\n",
       "    <tr>\n",
       "      <th>3565</th>\n",
       "      <td>143</td>\n",
       "      <td>114.584377</td>\n",
       "    </tr>\n",
       "    <tr>\n",
       "      <th>3566</th>\n",
       "      <td>138</td>\n",
       "      <td>116.249795</td>\n",
       "    </tr>\n",
       "  </tbody>\n",
       "</table>\n",
       "<p>3567 rows × 2 columns</p>\n",
       "</div>"
      ],
      "text/plain": [
       "      original   predicted\n",
       "0          170  124.903247\n",
       "1           72   63.368757\n",
       "2           56   60.150598\n",
       "3          150  111.201541\n",
       "4           58   82.569805\n",
       "...        ...         ...\n",
       "3562       100   86.356710\n",
       "3563        60   71.784060\n",
       "3564       161  151.227341\n",
       "3565       143  114.584377\n",
       "3566       138  116.249795\n",
       "\n",
       "[3567 rows x 2 columns]"
      ]
     },
     "execution_count": 139,
     "metadata": {},
     "output_type": "execute_result"
    }
   ],
   "source": [
    "df_final\n"
   ]
  },
  {
   "cell_type": "code",
   "execution_count": null,
   "id": "3cf514d0",
   "metadata": {},
   "outputs": [],
   "source": []
  }
 ],
 "metadata": {
  "kernelspec": {
   "display_name": "Python 3",
   "language": "python",
   "name": "python3"
  },
  "language_info": {
   "codemirror_mode": {
    "name": "ipython",
    "version": 3
   },
   "file_extension": ".py",
   "mimetype": "text/x-python",
   "name": "python",
   "nbconvert_exporter": "python",
   "pygments_lexer": "ipython3",
   "version": "3.8.8"
  }
 },
 "nbformat": 4,
 "nbformat_minor": 5
}
